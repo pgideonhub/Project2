{
 "cells": [
  {
   "cell_type": "markdown",
   "id": "e73f11aa",
   "metadata": {},
   "source": [
    "Task 4.10 - Part 1C"
   ]
  },
  {
   "cell_type": "markdown",
   "id": "a799fe2f",
   "metadata": {},
   "source": [
    "This script contains the following points:\n",
    "\n",
    "1. Importing libraries and data\n",
    "2. Determining number of unique values in columns\n",
    "3. Checking current price range frequencies\n",
    "4. Creating data dictionary and bar charts for department_id\n",
    "5. Comparing ordering habits by customer loyalty status with crosstabs and bar charts \n",
    "6. Comparing order frequency by age category with crosstabs and bar charts\n",
    "7. Comparing order frequency by family status & family size with crosstabs and bar charts\n",
    "8. Comparing average spending by age category with crosstabs and bar charts\n",
    "9. Comparing average spending by family status & family size with crosstabs and bar charts\n",
    "10. Comparing order frequency by income range with crosstabs and bar charts\n",
    "11. Comparing average spending by income range with crosstabs and bar charts"
   ]
  },
  {
   "cell_type": "markdown",
   "id": "ee4cfe92",
   "metadata": {},
   "source": [
    "1. Importing libraries and data "
   ]
  },
  {
   "cell_type": "code",
   "execution_count": 1,
   "id": "4b91ef7d",
   "metadata": {},
   "outputs": [],
   "source": [
    "# Import libraries\n",
    "import pandas as pd\n",
    "import numpy as np\n",
    "import os\n",
    "import matplotlib.pyplot as plt\n",
    "import seaborn as sns\n",
    "import scipy"
   ]
  },
  {
   "cell_type": "code",
   "execution_count": 2,
   "id": "8ec11780",
   "metadata": {},
   "outputs": [],
   "source": [
    "# Import data\n",
    "path = r'C:\\Users\\polly\\Documents\\Instacart Basket Analysis'\n",
    "df_ords_prods_all = pd.read_pickle(os.path.join(path, '02 Data', 'Prepared Data', 'orders_products_all_final.pkl'))  \n",
    "df_departs = pd.read_csv(os.path.join(path, '02 Data', 'Prepared Data', 'departments_wrangled.csv'), index_col = 0) "
   ]
  },
  {
   "cell_type": "code",
   "execution_count": 3,
   "id": "88b41b31",
   "metadata": {},
   "outputs": [
    {
     "data": {
      "text/plain": [
       "(30964564, 34)"
      ]
     },
     "execution_count": 3,
     "metadata": {},
     "output_type": "execute_result"
    }
   ],
   "source": [
    "# Check shape of dataframe\n",
    "df_ords_prods_all.shape"
   ]
  },
  {
   "cell_type": "code",
   "execution_count": 4,
   "id": "ed6d367c",
   "metadata": {},
   "outputs": [],
   "source": [
    "# Remove max column display default\n",
    "pd.options.display.max_columns = None"
   ]
  },
  {
   "cell_type": "code",
   "execution_count": 5,
   "id": "3036f10d",
   "metadata": {},
   "outputs": [
    {
     "data": {
      "text/html": [
       "<div>\n",
       "<style scoped>\n",
       "    .dataframe tbody tr th:only-of-type {\n",
       "        vertical-align: middle;\n",
       "    }\n",
       "\n",
       "    .dataframe tbody tr th {\n",
       "        vertical-align: top;\n",
       "    }\n",
       "\n",
       "    .dataframe thead th {\n",
       "        text-align: right;\n",
       "    }\n",
       "</style>\n",
       "<table border=\"1\" class=\"dataframe\">\n",
       "  <thead>\n",
       "    <tr style=\"text-align: right;\">\n",
       "      <th></th>\n",
       "      <th>order_id</th>\n",
       "      <th>user_id</th>\n",
       "      <th>order_number</th>\n",
       "      <th>orders_day_of_week</th>\n",
       "      <th>order_time_of_day</th>\n",
       "      <th>days_since_prior_order</th>\n",
       "      <th>product_id</th>\n",
       "      <th>add_to_cart_order</th>\n",
       "      <th>reordered</th>\n",
       "      <th>product_name</th>\n",
       "      <th>aisle_id</th>\n",
       "      <th>department_id</th>\n",
       "      <th>prices</th>\n",
       "      <th>price_range_loc</th>\n",
       "      <th>busiest_day</th>\n",
       "      <th>busiest_day_new</th>\n",
       "      <th>busiest_period_of_day</th>\n",
       "      <th>max_order</th>\n",
       "      <th>loyalty_flag</th>\n",
       "      <th>average_price</th>\n",
       "      <th>spending_flag</th>\n",
       "      <th>median_days_since_prior_order</th>\n",
       "      <th>order_frequency_flag</th>\n",
       "      <th>gender</th>\n",
       "      <th>state</th>\n",
       "      <th>age</th>\n",
       "      <th>date_joined</th>\n",
       "      <th>number_of_dependents</th>\n",
       "      <th>fam_status</th>\n",
       "      <th>income</th>\n",
       "      <th>region</th>\n",
       "      <th>age_range</th>\n",
       "      <th>income_range</th>\n",
       "      <th>family_size</th>\n",
       "    </tr>\n",
       "  </thead>\n",
       "  <tbody>\n",
       "    <tr>\n",
       "      <th>0</th>\n",
       "      <td>2539329</td>\n",
       "      <td>1</td>\n",
       "      <td>1</td>\n",
       "      <td>2</td>\n",
       "      <td>8</td>\n",
       "      <td>-1.0</td>\n",
       "      <td>196</td>\n",
       "      <td>1</td>\n",
       "      <td>0</td>\n",
       "      <td>Soda</td>\n",
       "      <td>77</td>\n",
       "      <td>7</td>\n",
       "      <td>9.0</td>\n",
       "      <td>Mid-range product</td>\n",
       "      <td>Regularly busy</td>\n",
       "      <td>Regularly busy</td>\n",
       "      <td>Average orders</td>\n",
       "      <td>10</td>\n",
       "      <td>New customer</td>\n",
       "      <td>6.367797</td>\n",
       "      <td>Low spender</td>\n",
       "      <td>20.0</td>\n",
       "      <td>Regular customer</td>\n",
       "      <td>Female</td>\n",
       "      <td>Alabama</td>\n",
       "      <td>31</td>\n",
       "      <td>2/17/2019</td>\n",
       "      <td>3</td>\n",
       "      <td>married</td>\n",
       "      <td>40423</td>\n",
       "      <td>South</td>\n",
       "      <td>Young adult</td>\n",
       "      <td>Below average income</td>\n",
       "      <td>Large family</td>\n",
       "    </tr>\n",
       "    <tr>\n",
       "      <th>1</th>\n",
       "      <td>2398795</td>\n",
       "      <td>1</td>\n",
       "      <td>2</td>\n",
       "      <td>3</td>\n",
       "      <td>7</td>\n",
       "      <td>15.0</td>\n",
       "      <td>196</td>\n",
       "      <td>1</td>\n",
       "      <td>1</td>\n",
       "      <td>Soda</td>\n",
       "      <td>77</td>\n",
       "      <td>7</td>\n",
       "      <td>9.0</td>\n",
       "      <td>Mid-range product</td>\n",
       "      <td>Regularly busy</td>\n",
       "      <td>Slowest days</td>\n",
       "      <td>Average orders</td>\n",
       "      <td>10</td>\n",
       "      <td>New customer</td>\n",
       "      <td>6.367797</td>\n",
       "      <td>Low spender</td>\n",
       "      <td>20.0</td>\n",
       "      <td>Regular customer</td>\n",
       "      <td>Female</td>\n",
       "      <td>Alabama</td>\n",
       "      <td>31</td>\n",
       "      <td>2/17/2019</td>\n",
       "      <td>3</td>\n",
       "      <td>married</td>\n",
       "      <td>40423</td>\n",
       "      <td>South</td>\n",
       "      <td>Young adult</td>\n",
       "      <td>Below average income</td>\n",
       "      <td>Large family</td>\n",
       "    </tr>\n",
       "    <tr>\n",
       "      <th>2</th>\n",
       "      <td>473747</td>\n",
       "      <td>1</td>\n",
       "      <td>3</td>\n",
       "      <td>3</td>\n",
       "      <td>12</td>\n",
       "      <td>21.0</td>\n",
       "      <td>196</td>\n",
       "      <td>1</td>\n",
       "      <td>1</td>\n",
       "      <td>Soda</td>\n",
       "      <td>77</td>\n",
       "      <td>7</td>\n",
       "      <td>9.0</td>\n",
       "      <td>Mid-range product</td>\n",
       "      <td>Regularly busy</td>\n",
       "      <td>Slowest days</td>\n",
       "      <td>Most orders</td>\n",
       "      <td>10</td>\n",
       "      <td>New customer</td>\n",
       "      <td>6.367797</td>\n",
       "      <td>Low spender</td>\n",
       "      <td>20.0</td>\n",
       "      <td>Regular customer</td>\n",
       "      <td>Female</td>\n",
       "      <td>Alabama</td>\n",
       "      <td>31</td>\n",
       "      <td>2/17/2019</td>\n",
       "      <td>3</td>\n",
       "      <td>married</td>\n",
       "      <td>40423</td>\n",
       "      <td>South</td>\n",
       "      <td>Young adult</td>\n",
       "      <td>Below average income</td>\n",
       "      <td>Large family</td>\n",
       "    </tr>\n",
       "    <tr>\n",
       "      <th>3</th>\n",
       "      <td>2254736</td>\n",
       "      <td>1</td>\n",
       "      <td>4</td>\n",
       "      <td>4</td>\n",
       "      <td>7</td>\n",
       "      <td>29.0</td>\n",
       "      <td>196</td>\n",
       "      <td>1</td>\n",
       "      <td>1</td>\n",
       "      <td>Soda</td>\n",
       "      <td>77</td>\n",
       "      <td>7</td>\n",
       "      <td>9.0</td>\n",
       "      <td>Mid-range product</td>\n",
       "      <td>Least busy</td>\n",
       "      <td>Slowest days</td>\n",
       "      <td>Average orders</td>\n",
       "      <td>10</td>\n",
       "      <td>New customer</td>\n",
       "      <td>6.367797</td>\n",
       "      <td>Low spender</td>\n",
       "      <td>20.0</td>\n",
       "      <td>Regular customer</td>\n",
       "      <td>Female</td>\n",
       "      <td>Alabama</td>\n",
       "      <td>31</td>\n",
       "      <td>2/17/2019</td>\n",
       "      <td>3</td>\n",
       "      <td>married</td>\n",
       "      <td>40423</td>\n",
       "      <td>South</td>\n",
       "      <td>Young adult</td>\n",
       "      <td>Below average income</td>\n",
       "      <td>Large family</td>\n",
       "    </tr>\n",
       "    <tr>\n",
       "      <th>4</th>\n",
       "      <td>431534</td>\n",
       "      <td>1</td>\n",
       "      <td>5</td>\n",
       "      <td>4</td>\n",
       "      <td>15</td>\n",
       "      <td>28.0</td>\n",
       "      <td>196</td>\n",
       "      <td>1</td>\n",
       "      <td>1</td>\n",
       "      <td>Soda</td>\n",
       "      <td>77</td>\n",
       "      <td>7</td>\n",
       "      <td>9.0</td>\n",
       "      <td>Mid-range product</td>\n",
       "      <td>Least busy</td>\n",
       "      <td>Slowest days</td>\n",
       "      <td>Most orders</td>\n",
       "      <td>10</td>\n",
       "      <td>New customer</td>\n",
       "      <td>6.367797</td>\n",
       "      <td>Low spender</td>\n",
       "      <td>20.0</td>\n",
       "      <td>Regular customer</td>\n",
       "      <td>Female</td>\n",
       "      <td>Alabama</td>\n",
       "      <td>31</td>\n",
       "      <td>2/17/2019</td>\n",
       "      <td>3</td>\n",
       "      <td>married</td>\n",
       "      <td>40423</td>\n",
       "      <td>South</td>\n",
       "      <td>Young adult</td>\n",
       "      <td>Below average income</td>\n",
       "      <td>Large family</td>\n",
       "    </tr>\n",
       "  </tbody>\n",
       "</table>\n",
       "</div>"
      ],
      "text/plain": [
       "   order_id  user_id  order_number  orders_day_of_week  order_time_of_day  \\\n",
       "0   2539329        1             1                   2                  8   \n",
       "1   2398795        1             2                   3                  7   \n",
       "2    473747        1             3                   3                 12   \n",
       "3   2254736        1             4                   4                  7   \n",
       "4    431534        1             5                   4                 15   \n",
       "\n",
       "   days_since_prior_order  product_id  add_to_cart_order  reordered  \\\n",
       "0                    -1.0         196                  1          0   \n",
       "1                    15.0         196                  1          1   \n",
       "2                    21.0         196                  1          1   \n",
       "3                    29.0         196                  1          1   \n",
       "4                    28.0         196                  1          1   \n",
       "\n",
       "  product_name  aisle_id  department_id  prices    price_range_loc  \\\n",
       "0         Soda        77              7     9.0  Mid-range product   \n",
       "1         Soda        77              7     9.0  Mid-range product   \n",
       "2         Soda        77              7     9.0  Mid-range product   \n",
       "3         Soda        77              7     9.0  Mid-range product   \n",
       "4         Soda        77              7     9.0  Mid-range product   \n",
       "\n",
       "      busiest_day busiest_day_new busiest_period_of_day  max_order  \\\n",
       "0  Regularly busy  Regularly busy        Average orders         10   \n",
       "1  Regularly busy    Slowest days        Average orders         10   \n",
       "2  Regularly busy    Slowest days           Most orders         10   \n",
       "3      Least busy    Slowest days        Average orders         10   \n",
       "4      Least busy    Slowest days           Most orders         10   \n",
       "\n",
       "   loyalty_flag  average_price spending_flag  median_days_since_prior_order  \\\n",
       "0  New customer       6.367797   Low spender                           20.0   \n",
       "1  New customer       6.367797   Low spender                           20.0   \n",
       "2  New customer       6.367797   Low spender                           20.0   \n",
       "3  New customer       6.367797   Low spender                           20.0   \n",
       "4  New customer       6.367797   Low spender                           20.0   \n",
       "\n",
       "  order_frequency_flag  gender    state  age date_joined  \\\n",
       "0     Regular customer  Female  Alabama   31   2/17/2019   \n",
       "1     Regular customer  Female  Alabama   31   2/17/2019   \n",
       "2     Regular customer  Female  Alabama   31   2/17/2019   \n",
       "3     Regular customer  Female  Alabama   31   2/17/2019   \n",
       "4     Regular customer  Female  Alabama   31   2/17/2019   \n",
       "\n",
       "   number_of_dependents fam_status  income region    age_range  \\\n",
       "0                     3    married   40423  South  Young adult   \n",
       "1                     3    married   40423  South  Young adult   \n",
       "2                     3    married   40423  South  Young adult   \n",
       "3                     3    married   40423  South  Young adult   \n",
       "4                     3    married   40423  South  Young adult   \n",
       "\n",
       "           income_range   family_size  \n",
       "0  Below average income  Large family  \n",
       "1  Below average income  Large family  \n",
       "2  Below average income  Large family  \n",
       "3  Below average income  Large family  \n",
       "4  Below average income  Large family  "
      ]
     },
     "execution_count": 5,
     "metadata": {},
     "output_type": "execute_result"
    }
   ],
   "source": [
    "# Check output of dataframe\n",
    "df_ords_prods_all.head()"
   ]
  },
  {
   "cell_type": "code",
   "execution_count": 6,
   "id": "94a9dbf1",
   "metadata": {},
   "outputs": [
    {
     "data": {
      "text/html": [
       "<div>\n",
       "<style scoped>\n",
       "    .dataframe tbody tr th:only-of-type {\n",
       "        vertical-align: middle;\n",
       "    }\n",
       "\n",
       "    .dataframe tbody tr th {\n",
       "        vertical-align: top;\n",
       "    }\n",
       "\n",
       "    .dataframe thead th {\n",
       "        text-align: right;\n",
       "    }\n",
       "</style>\n",
       "<table border=\"1\" class=\"dataframe\">\n",
       "  <thead>\n",
       "    <tr style=\"text-align: right;\">\n",
       "      <th></th>\n",
       "      <th>order_id</th>\n",
       "      <th>user_id</th>\n",
       "      <th>order_number</th>\n",
       "      <th>orders_day_of_week</th>\n",
       "      <th>order_time_of_day</th>\n",
       "      <th>days_since_prior_order</th>\n",
       "      <th>product_id</th>\n",
       "      <th>add_to_cart_order</th>\n",
       "      <th>reordered</th>\n",
       "      <th>aisle_id</th>\n",
       "      <th>department_id</th>\n",
       "      <th>prices</th>\n",
       "      <th>max_order</th>\n",
       "      <th>average_price</th>\n",
       "      <th>median_days_since_prior_order</th>\n",
       "      <th>age</th>\n",
       "      <th>number_of_dependents</th>\n",
       "      <th>income</th>\n",
       "    </tr>\n",
       "  </thead>\n",
       "  <tbody>\n",
       "    <tr>\n",
       "      <th>count</th>\n",
       "      <td>3.096456e+07</td>\n",
       "      <td>3.096456e+07</td>\n",
       "      <td>3.096456e+07</td>\n",
       "      <td>3.096456e+07</td>\n",
       "      <td>3.096456e+07</td>\n",
       "      <td>30964564.0</td>\n",
       "      <td>3.096456e+07</td>\n",
       "      <td>3.096456e+07</td>\n",
       "      <td>3.096456e+07</td>\n",
       "      <td>3.096456e+07</td>\n",
       "      <td>3.096456e+07</td>\n",
       "      <td>3.095969e+07</td>\n",
       "      <td>3.096456e+07</td>\n",
       "      <td>3.096456e+07</td>\n",
       "      <td>30964564.0</td>\n",
       "      <td>3.096456e+07</td>\n",
       "      <td>3.096456e+07</td>\n",
       "      <td>3.096456e+07</td>\n",
       "    </tr>\n",
       "    <tr>\n",
       "      <th>mean</th>\n",
       "      <td>1.710317e+06</td>\n",
       "      <td>1.029284e+05</td>\n",
       "      <td>1.783414e+01</td>\n",
       "      <td>2.741397e+00</td>\n",
       "      <td>1.341098e+01</td>\n",
       "      <td>NaN</td>\n",
       "      <td>2.559850e+04</td>\n",
       "      <td>8.363038e+00</td>\n",
       "      <td>6.061019e-01</td>\n",
       "      <td>6.450490e+01</td>\n",
       "      <td>9.922365e+00</td>\n",
       "      <td>7.578646e+00</td>\n",
       "      <td>3.442569e+01</td>\n",
       "      <td>1.021500e+01</td>\n",
       "      <td>NaN</td>\n",
       "      <td>4.946803e+01</td>\n",
       "      <td>1.501819e+00</td>\n",
       "      <td>9.967587e+04</td>\n",
       "    </tr>\n",
       "    <tr>\n",
       "      <th>std</th>\n",
       "      <td>9.873785e+05</td>\n",
       "      <td>5.947061e+04</td>\n",
       "      <td>1.763442e+01</td>\n",
       "      <td>2.089254e+00</td>\n",
       "      <td>4.248845e+00</td>\n",
       "      <td>0.0</td>\n",
       "      <td>1.408096e+04</td>\n",
       "      <td>7.135399e+00</td>\n",
       "      <td>4.886127e-01</td>\n",
       "      <td>4.841812e+01</td>\n",
       "      <td>6.282441e+00</td>\n",
       "      <td>4.109990e+00</td>\n",
       "      <td>2.489504e+01</td>\n",
       "      <td>7.988674e+01</td>\n",
       "      <td>0.0</td>\n",
       "      <td>1.848528e+01</td>\n",
       "      <td>1.118896e+00</td>\n",
       "      <td>4.314187e+04</td>\n",
       "    </tr>\n",
       "    <tr>\n",
       "      <th>min</th>\n",
       "      <td>2.000000e+00</td>\n",
       "      <td>1.000000e+00</td>\n",
       "      <td>1.000000e+00</td>\n",
       "      <td>0.000000e+00</td>\n",
       "      <td>0.000000e+00</td>\n",
       "      <td>-1.0</td>\n",
       "      <td>1.000000e+00</td>\n",
       "      <td>1.000000e+00</td>\n",
       "      <td>0.000000e+00</td>\n",
       "      <td>-1.280000e+02</td>\n",
       "      <td>1.000000e+00</td>\n",
       "      <td>1.000000e+00</td>\n",
       "      <td>5.000000e+00</td>\n",
       "      <td>1.000000e+00</td>\n",
       "      <td>-1.0</td>\n",
       "      <td>1.800000e+01</td>\n",
       "      <td>0.000000e+00</td>\n",
       "      <td>2.590300e+04</td>\n",
       "    </tr>\n",
       "    <tr>\n",
       "      <th>25%</th>\n",
       "      <td>8.554120e+05</td>\n",
       "      <td>5.140900e+04</td>\n",
       "      <td>5.000000e+00</td>\n",
       "      <td>1.000000e+00</td>\n",
       "      <td>1.000000e+01</td>\n",
       "      <td>4.0</td>\n",
       "      <td>1.354400e+04</td>\n",
       "      <td>3.000000e+00</td>\n",
       "      <td>0.000000e+00</td>\n",
       "      <td>2.400000e+01</td>\n",
       "      <td>4.000000e+00</td>\n",
       "      <td>4.200000e+00</td>\n",
       "      <td>1.400000e+01</td>\n",
       "      <td>7.392889e+00</td>\n",
       "      <td>6.0</td>\n",
       "      <td>3.300000e+01</td>\n",
       "      <td>1.000000e+00</td>\n",
       "      <td>6.729200e+04</td>\n",
       "    </tr>\n",
       "    <tr>\n",
       "      <th>50%</th>\n",
       "      <td>1.710404e+06</td>\n",
       "      <td>1.025860e+05</td>\n",
       "      <td>1.200000e+01</td>\n",
       "      <td>3.000000e+00</td>\n",
       "      <td>1.300000e+01</td>\n",
       "      <td>7.0</td>\n",
       "      <td>2.528800e+04</td>\n",
       "      <td>6.000000e+00</td>\n",
       "      <td>1.000000e+00</td>\n",
       "      <td>7.900000e+01</td>\n",
       "      <td>9.000000e+00</td>\n",
       "      <td>7.400000e+00</td>\n",
       "      <td>2.800000e+01</td>\n",
       "      <td>7.825143e+00</td>\n",
       "      <td>7.0</td>\n",
       "      <td>4.900000e+01</td>\n",
       "      <td>2.000000e+00</td>\n",
       "      <td>9.676500e+04</td>\n",
       "    </tr>\n",
       "    <tr>\n",
       "      <th>75%</th>\n",
       "      <td>2.565206e+06</td>\n",
       "      <td>1.543870e+05</td>\n",
       "      <td>2.500000e+01</td>\n",
       "      <td>5.000000e+00</td>\n",
       "      <td>1.600000e+01</td>\n",
       "      <td>14.0</td>\n",
       "      <td>3.794700e+04</td>\n",
       "      <td>1.100000e+01</td>\n",
       "      <td>1.000000e+00</td>\n",
       "      <td>1.000000e+02</td>\n",
       "      <td>1.600000e+01</td>\n",
       "      <td>1.130000e+01</td>\n",
       "      <td>4.800000e+01</td>\n",
       "      <td>8.249597e+00</td>\n",
       "      <td>11.0</td>\n",
       "      <td>6.500000e+01</td>\n",
       "      <td>3.000000e+00</td>\n",
       "      <td>1.281020e+05</td>\n",
       "    </tr>\n",
       "    <tr>\n",
       "      <th>max</th>\n",
       "      <td>3.421083e+06</td>\n",
       "      <td>2.062090e+05</td>\n",
       "      <td>9.900000e+01</td>\n",
       "      <td>6.000000e+00</td>\n",
       "      <td>2.300000e+01</td>\n",
       "      <td>30.0</td>\n",
       "      <td>4.968800e+04</td>\n",
       "      <td>1.450000e+02</td>\n",
       "      <td>1.000000e+00</td>\n",
       "      <td>1.270000e+02</td>\n",
       "      <td>2.100000e+01</td>\n",
       "      <td>2.500000e+01</td>\n",
       "      <td>9.900000e+01</td>\n",
       "      <td>1.500694e+04</td>\n",
       "      <td>30.0</td>\n",
       "      <td>8.100000e+01</td>\n",
       "      <td>3.000000e+00</td>\n",
       "      <td>5.939010e+05</td>\n",
       "    </tr>\n",
       "  </tbody>\n",
       "</table>\n",
       "</div>"
      ],
      "text/plain": [
       "           order_id       user_id  order_number  orders_day_of_week  \\\n",
       "count  3.096456e+07  3.096456e+07  3.096456e+07        3.096456e+07   \n",
       "mean   1.710317e+06  1.029284e+05  1.783414e+01        2.741397e+00   \n",
       "std    9.873785e+05  5.947061e+04  1.763442e+01        2.089254e+00   \n",
       "min    2.000000e+00  1.000000e+00  1.000000e+00        0.000000e+00   \n",
       "25%    8.554120e+05  5.140900e+04  5.000000e+00        1.000000e+00   \n",
       "50%    1.710404e+06  1.025860e+05  1.200000e+01        3.000000e+00   \n",
       "75%    2.565206e+06  1.543870e+05  2.500000e+01        5.000000e+00   \n",
       "max    3.421083e+06  2.062090e+05  9.900000e+01        6.000000e+00   \n",
       "\n",
       "       order_time_of_day  days_since_prior_order    product_id  \\\n",
       "count       3.096456e+07              30964564.0  3.096456e+07   \n",
       "mean        1.341098e+01                     NaN  2.559850e+04   \n",
       "std         4.248845e+00                     0.0  1.408096e+04   \n",
       "min         0.000000e+00                    -1.0  1.000000e+00   \n",
       "25%         1.000000e+01                     4.0  1.354400e+04   \n",
       "50%         1.300000e+01                     7.0  2.528800e+04   \n",
       "75%         1.600000e+01                    14.0  3.794700e+04   \n",
       "max         2.300000e+01                    30.0  4.968800e+04   \n",
       "\n",
       "       add_to_cart_order     reordered      aisle_id  department_id  \\\n",
       "count       3.096456e+07  3.096456e+07  3.096456e+07   3.096456e+07   \n",
       "mean        8.363038e+00  6.061019e-01  6.450490e+01   9.922365e+00   \n",
       "std         7.135399e+00  4.886127e-01  4.841812e+01   6.282441e+00   \n",
       "min         1.000000e+00  0.000000e+00 -1.280000e+02   1.000000e+00   \n",
       "25%         3.000000e+00  0.000000e+00  2.400000e+01   4.000000e+00   \n",
       "50%         6.000000e+00  1.000000e+00  7.900000e+01   9.000000e+00   \n",
       "75%         1.100000e+01  1.000000e+00  1.000000e+02   1.600000e+01   \n",
       "max         1.450000e+02  1.000000e+00  1.270000e+02   2.100000e+01   \n",
       "\n",
       "             prices     max_order  average_price  \\\n",
       "count  3.095969e+07  3.096456e+07   3.096456e+07   \n",
       "mean   7.578646e+00  3.442569e+01   1.021500e+01   \n",
       "std    4.109990e+00  2.489504e+01   7.988674e+01   \n",
       "min    1.000000e+00  5.000000e+00   1.000000e+00   \n",
       "25%    4.200000e+00  1.400000e+01   7.392889e+00   \n",
       "50%    7.400000e+00  2.800000e+01   7.825143e+00   \n",
       "75%    1.130000e+01  4.800000e+01   8.249597e+00   \n",
       "max    2.500000e+01  9.900000e+01   1.500694e+04   \n",
       "\n",
       "       median_days_since_prior_order           age  number_of_dependents  \\\n",
       "count                     30964564.0  3.096456e+07          3.096456e+07   \n",
       "mean                             NaN  4.946803e+01          1.501819e+00   \n",
       "std                              0.0  1.848528e+01          1.118896e+00   \n",
       "min                             -1.0  1.800000e+01          0.000000e+00   \n",
       "25%                              6.0  3.300000e+01          1.000000e+00   \n",
       "50%                              7.0  4.900000e+01          2.000000e+00   \n",
       "75%                             11.0  6.500000e+01          3.000000e+00   \n",
       "max                             30.0  8.100000e+01          3.000000e+00   \n",
       "\n",
       "             income  \n",
       "count  3.096456e+07  \n",
       "mean   9.967587e+04  \n",
       "std    4.314187e+04  \n",
       "min    2.590300e+04  \n",
       "25%    6.729200e+04  \n",
       "50%    9.676500e+04  \n",
       "75%    1.281020e+05  \n",
       "max    5.939010e+05  "
      ]
     },
     "execution_count": 6,
     "metadata": {},
     "output_type": "execute_result"
    }
   ],
   "source": [
    "# Check statistics of dataframe\n",
    "df_ords_prods_all.describe()"
   ]
  },
  {
   "cell_type": "markdown",
   "id": "fae7b9e6",
   "metadata": {},
   "source": [
    "2. Determining number of unique values in columns"
   ]
  },
  {
   "cell_type": "code",
   "execution_count": 7,
   "id": "2f403051",
   "metadata": {},
   "outputs": [],
   "source": [
    "# Find number of unique values in each column\n",
    "n = df_ords_prods_all.nunique(axis = 0)"
   ]
  },
  {
   "cell_type": "code",
   "execution_count": 8,
   "id": "d314f2db",
   "metadata": {},
   "outputs": [
    {
     "data": {
      "text/plain": [
       "order_id                         3064375\n",
       "user_id                           162631\n",
       "order_number                          99\n",
       "orders_day_of_week                     7\n",
       "order_time_of_day                     24\n",
       "days_since_prior_order                32\n",
       "product_id                         49628\n",
       "add_to_cart_order                    145\n",
       "reordered                              2\n",
       "product_name                       49630\n",
       "aisle_id                             134\n",
       "department_id                         21\n",
       "prices                               240\n",
       "price_range_loc                        3\n",
       "busiest_day                            3\n",
       "busiest_day_new                        3\n",
       "busiest_period_of_day                  3\n",
       "max_order                             95\n",
       "loyalty_flag                           3\n",
       "average_price                     117106\n",
       "spending_flag                          2\n",
       "median_days_since_prior_order         63\n",
       "order_frequency_flag                   3\n",
       "gender                                 2\n",
       "state                                 51\n",
       "age                                   64\n",
       "date_joined                         1187\n",
       "number_of_dependents                   4\n",
       "fam_status                             4\n",
       "income                             96069\n",
       "region                                 4\n",
       "age_range                              4\n",
       "income_range                           4\n",
       "family_size                            4\n",
       "dtype: int64"
      ]
     },
     "execution_count": 8,
     "metadata": {},
     "output_type": "execute_result"
    }
   ],
   "source": [
    "# Print unique values\n",
    "n"
   ]
  },
  {
   "cell_type": "markdown",
   "id": "b95b8717",
   "metadata": {},
   "source": [
    "3. Check current price range frequencies"
   ]
  },
  {
   "cell_type": "code",
   "execution_count": 9,
   "id": "41cbbfbb",
   "metadata": {},
   "outputs": [
    {
     "data": {
      "text/plain": [
       "Mid-range product     20891771\n",
       "Low-range product      9674840\n",
       "High-range product      397953\n",
       "Name: price_range_loc, dtype: int64"
      ]
     },
     "execution_count": 9,
     "metadata": {},
     "output_type": "execute_result"
    }
   ],
   "source": [
    "# Check current price_range frequencies\n",
    "df_ords_prods_all['price_range_loc'].value_counts(dropna = False)"
   ]
  },
  {
   "cell_type": "markdown",
   "id": "f5c45d38",
   "metadata": {},
   "source": [
    "4. Creating data dictionary and bar charts for departments"
   ]
  },
  {
   "cell_type": "code",
   "execution_count": 10,
   "id": "b056c609",
   "metadata": {},
   "outputs": [
    {
     "data": {
      "text/html": [
       "<div>\n",
       "<style scoped>\n",
       "    .dataframe tbody tr th:only-of-type {\n",
       "        vertical-align: middle;\n",
       "    }\n",
       "\n",
       "    .dataframe tbody tr th {\n",
       "        vertical-align: top;\n",
       "    }\n",
       "\n",
       "    .dataframe thead th {\n",
       "        text-align: right;\n",
       "    }\n",
       "</style>\n",
       "<table border=\"1\" class=\"dataframe\">\n",
       "  <thead>\n",
       "    <tr style=\"text-align: right;\">\n",
       "      <th></th>\n",
       "      <th>department</th>\n",
       "    </tr>\n",
       "  </thead>\n",
       "  <tbody>\n",
       "    <tr>\n",
       "      <th>1</th>\n",
       "      <td>frozen</td>\n",
       "    </tr>\n",
       "    <tr>\n",
       "      <th>2</th>\n",
       "      <td>other</td>\n",
       "    </tr>\n",
       "    <tr>\n",
       "      <th>3</th>\n",
       "      <td>bakery</td>\n",
       "    </tr>\n",
       "    <tr>\n",
       "      <th>4</th>\n",
       "      <td>produce</td>\n",
       "    </tr>\n",
       "    <tr>\n",
       "      <th>5</th>\n",
       "      <td>alcohol</td>\n",
       "    </tr>\n",
       "    <tr>\n",
       "      <th>6</th>\n",
       "      <td>international</td>\n",
       "    </tr>\n",
       "    <tr>\n",
       "      <th>7</th>\n",
       "      <td>beverages</td>\n",
       "    </tr>\n",
       "    <tr>\n",
       "      <th>8</th>\n",
       "      <td>pets</td>\n",
       "    </tr>\n",
       "    <tr>\n",
       "      <th>9</th>\n",
       "      <td>dry goods pasta</td>\n",
       "    </tr>\n",
       "    <tr>\n",
       "      <th>10</th>\n",
       "      <td>bulk</td>\n",
       "    </tr>\n",
       "    <tr>\n",
       "      <th>11</th>\n",
       "      <td>personal care</td>\n",
       "    </tr>\n",
       "    <tr>\n",
       "      <th>12</th>\n",
       "      <td>meat seafood</td>\n",
       "    </tr>\n",
       "    <tr>\n",
       "      <th>13</th>\n",
       "      <td>pantry</td>\n",
       "    </tr>\n",
       "    <tr>\n",
       "      <th>14</th>\n",
       "      <td>breakfast</td>\n",
       "    </tr>\n",
       "    <tr>\n",
       "      <th>15</th>\n",
       "      <td>canned goods</td>\n",
       "    </tr>\n",
       "    <tr>\n",
       "      <th>16</th>\n",
       "      <td>dairy eggs</td>\n",
       "    </tr>\n",
       "    <tr>\n",
       "      <th>17</th>\n",
       "      <td>household</td>\n",
       "    </tr>\n",
       "    <tr>\n",
       "      <th>18</th>\n",
       "      <td>babies</td>\n",
       "    </tr>\n",
       "    <tr>\n",
       "      <th>19</th>\n",
       "      <td>snacks</td>\n",
       "    </tr>\n",
       "    <tr>\n",
       "      <th>20</th>\n",
       "      <td>deli</td>\n",
       "    </tr>\n",
       "    <tr>\n",
       "      <th>21</th>\n",
       "      <td>missing</td>\n",
       "    </tr>\n",
       "  </tbody>\n",
       "</table>\n",
       "</div>"
      ],
      "text/plain": [
       "         department\n",
       "1            frozen\n",
       "2             other\n",
       "3            bakery\n",
       "4           produce\n",
       "5           alcohol\n",
       "6     international\n",
       "7         beverages\n",
       "8              pets\n",
       "9   dry goods pasta\n",
       "10             bulk\n",
       "11    personal care\n",
       "12     meat seafood\n",
       "13           pantry\n",
       "14        breakfast\n",
       "15     canned goods\n",
       "16       dairy eggs\n",
       "17        household\n",
       "18           babies\n",
       "19           snacks\n",
       "20             deli\n",
       "21          missing"
      ]
     },
     "execution_count": 10,
     "metadata": {},
     "output_type": "execute_result"
    }
   ],
   "source": [
    "# Print df_departs dataframe\n",
    "df_departs"
   ]
  },
  {
   "cell_type": "code",
   "execution_count": 11,
   "id": "9558c410",
   "metadata": {},
   "outputs": [],
   "source": [
    "# Create data dictionary for 'department_id'\n",
    "data_dict = df_departs.to_dict('index')"
   ]
  },
  {
   "cell_type": "code",
   "execution_count": 12,
   "id": "4b767686",
   "metadata": {},
   "outputs": [
    {
     "data": {
      "text/plain": [
       "{1: {'department': 'frozen'},\n",
       " 2: {'department': 'other'},\n",
       " 3: {'department': 'bakery'},\n",
       " 4: {'department': 'produce'},\n",
       " 5: {'department': 'alcohol'},\n",
       " 6: {'department': 'international'},\n",
       " 7: {'department': 'beverages'},\n",
       " 8: {'department': 'pets'},\n",
       " 9: {'department': 'dry goods pasta'},\n",
       " 10: {'department': 'bulk'},\n",
       " 11: {'department': 'personal care'},\n",
       " 12: {'department': 'meat seafood'},\n",
       " 13: {'department': 'pantry'},\n",
       " 14: {'department': 'breakfast'},\n",
       " 15: {'department': 'canned goods'},\n",
       " 16: {'department': 'dairy eggs'},\n",
       " 17: {'department': 'household'},\n",
       " 18: {'department': 'babies'},\n",
       " 19: {'department': 'snacks'},\n",
       " 20: {'department': 'deli'},\n",
       " 21: {'department': 'missing'}}"
      ]
     },
     "execution_count": 12,
     "metadata": {},
     "output_type": "execute_result"
    }
   ],
   "source": [
    "# Check output of data_dict\n",
    "data_dict"
   ]
  },
  {
   "cell_type": "code",
   "execution_count": 13,
   "id": "d696f3ad",
   "metadata": {},
   "outputs": [],
   "source": [
    "# Map department names in data dictionary to df_ords_prods_all dataframe\n",
    "df_ords_prods_all['department_name'] = df_ords_prods_all['department_id'].map(data_dict)"
   ]
  },
  {
   "cell_type": "code",
   "execution_count": 14,
   "id": "10c039ae",
   "metadata": {},
   "outputs": [
    {
     "data": {
      "text/html": [
       "<div>\n",
       "<style scoped>\n",
       "    .dataframe tbody tr th:only-of-type {\n",
       "        vertical-align: middle;\n",
       "    }\n",
       "\n",
       "    .dataframe tbody tr th {\n",
       "        vertical-align: top;\n",
       "    }\n",
       "\n",
       "    .dataframe thead th {\n",
       "        text-align: right;\n",
       "    }\n",
       "</style>\n",
       "<table border=\"1\" class=\"dataframe\">\n",
       "  <thead>\n",
       "    <tr style=\"text-align: right;\">\n",
       "      <th></th>\n",
       "      <th>order_id</th>\n",
       "      <th>user_id</th>\n",
       "      <th>order_number</th>\n",
       "      <th>orders_day_of_week</th>\n",
       "      <th>order_time_of_day</th>\n",
       "      <th>days_since_prior_order</th>\n",
       "      <th>product_id</th>\n",
       "      <th>add_to_cart_order</th>\n",
       "      <th>reordered</th>\n",
       "      <th>product_name</th>\n",
       "      <th>aisle_id</th>\n",
       "      <th>department_id</th>\n",
       "      <th>prices</th>\n",
       "      <th>price_range_loc</th>\n",
       "      <th>busiest_day</th>\n",
       "      <th>busiest_day_new</th>\n",
       "      <th>busiest_period_of_day</th>\n",
       "      <th>max_order</th>\n",
       "      <th>loyalty_flag</th>\n",
       "      <th>average_price</th>\n",
       "      <th>spending_flag</th>\n",
       "      <th>median_days_since_prior_order</th>\n",
       "      <th>order_frequency_flag</th>\n",
       "      <th>gender</th>\n",
       "      <th>state</th>\n",
       "      <th>age</th>\n",
       "      <th>date_joined</th>\n",
       "      <th>number_of_dependents</th>\n",
       "      <th>fam_status</th>\n",
       "      <th>income</th>\n",
       "      <th>region</th>\n",
       "      <th>age_range</th>\n",
       "      <th>income_range</th>\n",
       "      <th>family_size</th>\n",
       "      <th>department_name</th>\n",
       "    </tr>\n",
       "  </thead>\n",
       "  <tbody>\n",
       "    <tr>\n",
       "      <th>0</th>\n",
       "      <td>2539329</td>\n",
       "      <td>1</td>\n",
       "      <td>1</td>\n",
       "      <td>2</td>\n",
       "      <td>8</td>\n",
       "      <td>-1.0</td>\n",
       "      <td>196</td>\n",
       "      <td>1</td>\n",
       "      <td>0</td>\n",
       "      <td>Soda</td>\n",
       "      <td>77</td>\n",
       "      <td>7</td>\n",
       "      <td>9.0</td>\n",
       "      <td>Mid-range product</td>\n",
       "      <td>Regularly busy</td>\n",
       "      <td>Regularly busy</td>\n",
       "      <td>Average orders</td>\n",
       "      <td>10</td>\n",
       "      <td>New customer</td>\n",
       "      <td>6.367797</td>\n",
       "      <td>Low spender</td>\n",
       "      <td>20.0</td>\n",
       "      <td>Regular customer</td>\n",
       "      <td>Female</td>\n",
       "      <td>Alabama</td>\n",
       "      <td>31</td>\n",
       "      <td>2/17/2019</td>\n",
       "      <td>3</td>\n",
       "      <td>married</td>\n",
       "      <td>40423</td>\n",
       "      <td>South</td>\n",
       "      <td>Young adult</td>\n",
       "      <td>Below average income</td>\n",
       "      <td>Large family</td>\n",
       "      <td>{'department': 'beverages'}</td>\n",
       "    </tr>\n",
       "    <tr>\n",
       "      <th>1</th>\n",
       "      <td>2398795</td>\n",
       "      <td>1</td>\n",
       "      <td>2</td>\n",
       "      <td>3</td>\n",
       "      <td>7</td>\n",
       "      <td>15.0</td>\n",
       "      <td>196</td>\n",
       "      <td>1</td>\n",
       "      <td>1</td>\n",
       "      <td>Soda</td>\n",
       "      <td>77</td>\n",
       "      <td>7</td>\n",
       "      <td>9.0</td>\n",
       "      <td>Mid-range product</td>\n",
       "      <td>Regularly busy</td>\n",
       "      <td>Slowest days</td>\n",
       "      <td>Average orders</td>\n",
       "      <td>10</td>\n",
       "      <td>New customer</td>\n",
       "      <td>6.367797</td>\n",
       "      <td>Low spender</td>\n",
       "      <td>20.0</td>\n",
       "      <td>Regular customer</td>\n",
       "      <td>Female</td>\n",
       "      <td>Alabama</td>\n",
       "      <td>31</td>\n",
       "      <td>2/17/2019</td>\n",
       "      <td>3</td>\n",
       "      <td>married</td>\n",
       "      <td>40423</td>\n",
       "      <td>South</td>\n",
       "      <td>Young adult</td>\n",
       "      <td>Below average income</td>\n",
       "      <td>Large family</td>\n",
       "      <td>{'department': 'beverages'}</td>\n",
       "    </tr>\n",
       "    <tr>\n",
       "      <th>2</th>\n",
       "      <td>473747</td>\n",
       "      <td>1</td>\n",
       "      <td>3</td>\n",
       "      <td>3</td>\n",
       "      <td>12</td>\n",
       "      <td>21.0</td>\n",
       "      <td>196</td>\n",
       "      <td>1</td>\n",
       "      <td>1</td>\n",
       "      <td>Soda</td>\n",
       "      <td>77</td>\n",
       "      <td>7</td>\n",
       "      <td>9.0</td>\n",
       "      <td>Mid-range product</td>\n",
       "      <td>Regularly busy</td>\n",
       "      <td>Slowest days</td>\n",
       "      <td>Most orders</td>\n",
       "      <td>10</td>\n",
       "      <td>New customer</td>\n",
       "      <td>6.367797</td>\n",
       "      <td>Low spender</td>\n",
       "      <td>20.0</td>\n",
       "      <td>Regular customer</td>\n",
       "      <td>Female</td>\n",
       "      <td>Alabama</td>\n",
       "      <td>31</td>\n",
       "      <td>2/17/2019</td>\n",
       "      <td>3</td>\n",
       "      <td>married</td>\n",
       "      <td>40423</td>\n",
       "      <td>South</td>\n",
       "      <td>Young adult</td>\n",
       "      <td>Below average income</td>\n",
       "      <td>Large family</td>\n",
       "      <td>{'department': 'beverages'}</td>\n",
       "    </tr>\n",
       "    <tr>\n",
       "      <th>3</th>\n",
       "      <td>2254736</td>\n",
       "      <td>1</td>\n",
       "      <td>4</td>\n",
       "      <td>4</td>\n",
       "      <td>7</td>\n",
       "      <td>29.0</td>\n",
       "      <td>196</td>\n",
       "      <td>1</td>\n",
       "      <td>1</td>\n",
       "      <td>Soda</td>\n",
       "      <td>77</td>\n",
       "      <td>7</td>\n",
       "      <td>9.0</td>\n",
       "      <td>Mid-range product</td>\n",
       "      <td>Least busy</td>\n",
       "      <td>Slowest days</td>\n",
       "      <td>Average orders</td>\n",
       "      <td>10</td>\n",
       "      <td>New customer</td>\n",
       "      <td>6.367797</td>\n",
       "      <td>Low spender</td>\n",
       "      <td>20.0</td>\n",
       "      <td>Regular customer</td>\n",
       "      <td>Female</td>\n",
       "      <td>Alabama</td>\n",
       "      <td>31</td>\n",
       "      <td>2/17/2019</td>\n",
       "      <td>3</td>\n",
       "      <td>married</td>\n",
       "      <td>40423</td>\n",
       "      <td>South</td>\n",
       "      <td>Young adult</td>\n",
       "      <td>Below average income</td>\n",
       "      <td>Large family</td>\n",
       "      <td>{'department': 'beverages'}</td>\n",
       "    </tr>\n",
       "    <tr>\n",
       "      <th>4</th>\n",
       "      <td>431534</td>\n",
       "      <td>1</td>\n",
       "      <td>5</td>\n",
       "      <td>4</td>\n",
       "      <td>15</td>\n",
       "      <td>28.0</td>\n",
       "      <td>196</td>\n",
       "      <td>1</td>\n",
       "      <td>1</td>\n",
       "      <td>Soda</td>\n",
       "      <td>77</td>\n",
       "      <td>7</td>\n",
       "      <td>9.0</td>\n",
       "      <td>Mid-range product</td>\n",
       "      <td>Least busy</td>\n",
       "      <td>Slowest days</td>\n",
       "      <td>Most orders</td>\n",
       "      <td>10</td>\n",
       "      <td>New customer</td>\n",
       "      <td>6.367797</td>\n",
       "      <td>Low spender</td>\n",
       "      <td>20.0</td>\n",
       "      <td>Regular customer</td>\n",
       "      <td>Female</td>\n",
       "      <td>Alabama</td>\n",
       "      <td>31</td>\n",
       "      <td>2/17/2019</td>\n",
       "      <td>3</td>\n",
       "      <td>married</td>\n",
       "      <td>40423</td>\n",
       "      <td>South</td>\n",
       "      <td>Young adult</td>\n",
       "      <td>Below average income</td>\n",
       "      <td>Large family</td>\n",
       "      <td>{'department': 'beverages'}</td>\n",
       "    </tr>\n",
       "  </tbody>\n",
       "</table>\n",
       "</div>"
      ],
      "text/plain": [
       "   order_id  user_id  order_number  orders_day_of_week  order_time_of_day  \\\n",
       "0   2539329        1             1                   2                  8   \n",
       "1   2398795        1             2                   3                  7   \n",
       "2    473747        1             3                   3                 12   \n",
       "3   2254736        1             4                   4                  7   \n",
       "4    431534        1             5                   4                 15   \n",
       "\n",
       "   days_since_prior_order  product_id  add_to_cart_order  reordered  \\\n",
       "0                    -1.0         196                  1          0   \n",
       "1                    15.0         196                  1          1   \n",
       "2                    21.0         196                  1          1   \n",
       "3                    29.0         196                  1          1   \n",
       "4                    28.0         196                  1          1   \n",
       "\n",
       "  product_name  aisle_id  department_id  prices    price_range_loc  \\\n",
       "0         Soda        77              7     9.0  Mid-range product   \n",
       "1         Soda        77              7     9.0  Mid-range product   \n",
       "2         Soda        77              7     9.0  Mid-range product   \n",
       "3         Soda        77              7     9.0  Mid-range product   \n",
       "4         Soda        77              7     9.0  Mid-range product   \n",
       "\n",
       "      busiest_day busiest_day_new busiest_period_of_day  max_order  \\\n",
       "0  Regularly busy  Regularly busy        Average orders         10   \n",
       "1  Regularly busy    Slowest days        Average orders         10   \n",
       "2  Regularly busy    Slowest days           Most orders         10   \n",
       "3      Least busy    Slowest days        Average orders         10   \n",
       "4      Least busy    Slowest days           Most orders         10   \n",
       "\n",
       "   loyalty_flag  average_price spending_flag  median_days_since_prior_order  \\\n",
       "0  New customer       6.367797   Low spender                           20.0   \n",
       "1  New customer       6.367797   Low spender                           20.0   \n",
       "2  New customer       6.367797   Low spender                           20.0   \n",
       "3  New customer       6.367797   Low spender                           20.0   \n",
       "4  New customer       6.367797   Low spender                           20.0   \n",
       "\n",
       "  order_frequency_flag  gender    state  age date_joined  \\\n",
       "0     Regular customer  Female  Alabama   31   2/17/2019   \n",
       "1     Regular customer  Female  Alabama   31   2/17/2019   \n",
       "2     Regular customer  Female  Alabama   31   2/17/2019   \n",
       "3     Regular customer  Female  Alabama   31   2/17/2019   \n",
       "4     Regular customer  Female  Alabama   31   2/17/2019   \n",
       "\n",
       "   number_of_dependents fam_status  income region    age_range  \\\n",
       "0                     3    married   40423  South  Young adult   \n",
       "1                     3    married   40423  South  Young adult   \n",
       "2                     3    married   40423  South  Young adult   \n",
       "3                     3    married   40423  South  Young adult   \n",
       "4                     3    married   40423  South  Young adult   \n",
       "\n",
       "           income_range   family_size              department_name  \n",
       "0  Below average income  Large family  {'department': 'beverages'}  \n",
       "1  Below average income  Large family  {'department': 'beverages'}  \n",
       "2  Below average income  Large family  {'department': 'beverages'}  \n",
       "3  Below average income  Large family  {'department': 'beverages'}  \n",
       "4  Below average income  Large family  {'department': 'beverages'}  "
      ]
     },
     "execution_count": 14,
     "metadata": {},
     "output_type": "execute_result"
    }
   ],
   "source": [
    "# Check output\n",
    "df_ords_prods_all.head()"
   ]
  },
  {
   "cell_type": "code",
   "execution_count": null,
   "id": "7078454c",
   "metadata": {},
   "outputs": [],
   "source": []
  },
  {
   "cell_type": "code",
   "execution_count": null,
   "id": "078af541",
   "metadata": {},
   "outputs": [],
   "source": []
  },
  {
   "cell_type": "code",
   "execution_count": null,
   "id": "ddfd544e",
   "metadata": {},
   "outputs": [],
   "source": []
  },
  {
   "cell_type": "code",
   "execution_count": null,
   "id": "82c35baf",
   "metadata": {},
   "outputs": [],
   "source": []
  },
  {
   "cell_type": "code",
   "execution_count": null,
   "id": "7cec14d3",
   "metadata": {},
   "outputs": [],
   "source": []
  },
  {
   "cell_type": "code",
   "execution_count": null,
   "id": "0d6bc369",
   "metadata": {},
   "outputs": [],
   "source": []
  },
  {
   "cell_type": "code",
   "execution_count": null,
   "id": "af5164ac",
   "metadata": {},
   "outputs": [],
   "source": []
  },
  {
   "cell_type": "code",
   "execution_count": 15,
   "id": "74984c88",
   "metadata": {},
   "outputs": [
    {
     "data": {
      "text/plain": [
       "[Text(0, 0, '33451'),\n",
       " Text(0, 0, '34411'),\n",
       " Text(0, 0, '64768'),\n",
       " Text(0, 0, '93060'),\n",
       " Text(0, 0, '144627'),\n",
       " Text(0, 0, '255991'),\n",
       " Text(0, 0, '410392'),\n",
       " Text(0, 0, '424306'),\n",
       " Text(0, 0, '670850'),\n",
       " Text(0, 0, '674781'),\n",
       " Text(0, 0, '699857'),\n",
       " Text(0, 0, '822136'),\n",
       " Text(0, 0, '1.00383e+06'),\n",
       " Text(0, 0, '1.01207e+06'),\n",
       " Text(0, 0, '1.12083e+06'),\n",
       " Text(0, 0, '1.7827e+06'),\n",
       " Text(0, 0, '2.12173e+06'),\n",
       " Text(0, 0, '2.5719e+06'),\n",
       " Text(0, 0, '2.76641e+06'),\n",
       " Text(0, 0, '5.17718e+06'),\n",
       " Text(0, 0, '9.07927e+06')]"
      ]
     },
     "execution_count": 15,
     "metadata": {},
     "output_type": "execute_result"
    },
    {
     "data": {
      "image/png": "[encoded data removed]",
      "text/plain": [
       "<Figure size 640x480 with 1 Axes>"
      ]
     },
     "metadata": {},
     "output_type": "display_data"
    }
   ],
   "source": [
    "# Create frequency bar chart for department_id\n",
    "bar_1 = df_ords_prods_all['department_id'].value_counts().sort_values().plot.barh()\n",
    "plt.xlabel('Number of Orders')\n",
    "plt.title('Orders by Department')\n",
    "bar_1.bar_label(bar_1.containers[0], label_type='edge')"
   ]
  },
  {
   "cell_type": "code",
   "execution_count": 16,
   "id": "22a8f5c9",
   "metadata": {},
   "outputs": [],
   "source": [
    "# Save 'bar_1' object to file\n",
    "bar_1.figure.savefig(os.path.join(path, '04 Analysis','Visualizations', 'barh_depart_id_orders.png'))"
   ]
  },
  {
   "cell_type": "code",
   "execution_count": 17,
   "id": "0126f8c2",
   "metadata": {},
   "outputs": [
    {
     "data": {
      "text/plain": [
       "Text(0.5, 1.0, 'Orders by Department')"
      ]
     },
     "execution_count": 17,
     "metadata": {},
     "output_type": "execute_result"
    },
    {
     "data": {
      "image/png": "[encoded data removed]",
      "text/plain": [
       "<Figure size 640x480 with 1 Axes>"
      ]
     },
     "metadata": {},
     "output_type": "display_data"
    }
   ],
   "source": [
    "# Create frequency bar chart for department_name\n",
    "bar_2 = df_ords_prods_all['department_name'].value_counts().sort_values().plot.barh()\n",
    "plt.xlabel('Number of Orders')\n",
    "plt.title('Orders by Department')"
   ]
  },
  {
   "cell_type": "code",
   "execution_count": 18,
   "id": "85dff4e1",
   "metadata": {},
   "outputs": [],
   "source": [
    "# Save 'bar_2' object to file\n",
    "bar_2.figure.savefig(os.path.join(path, '04 Analysis','Visualizations', 'barh_depart_name_orders.png'))"
   ]
  },
  {
   "cell_type": "markdown",
   "id": "bef27ef6",
   "metadata": {},
   "source": [
    "5. Comparing customer loyalty status and ordering habits"
   ]
  },
  {
   "cell_type": "code",
   "execution_count": 23,
   "id": "533467c3",
   "metadata": {},
   "outputs": [],
   "source": [
    "# Create crosstab between 'loyalty_flag' and 'spending_flag' columns\n",
    "crosstab_1 = pd.crosstab(df_ords_prods_all['loyalty_flag'], df_ords_prods_all['spending_flag'], dropna = False)"
   ]
  },
  {
   "cell_type": "code",
   "execution_count": 24,
   "id": "c5f5083d",
   "metadata": {},
   "outputs": [],
   "source": [
    "# Sort crosstab_1 by 'High Spender'\n",
    "crosstab_1 = crosstab_1.sort_values(by = 'High spender',ascending = False)"
   ]
  },
  {
   "cell_type": "code",
   "execution_count": 36,
   "id": "19ba647f",
   "metadata": {},
   "outputs": [
    {
     "data": {
      "text/html": [
       "<div>\n",
       "<style scoped>\n",
       "    .dataframe tbody tr th:only-of-type {\n",
       "        vertical-align: middle;\n",
       "    }\n",
       "\n",
       "    .dataframe tbody tr th {\n",
       "        vertical-align: top;\n",
       "    }\n",
       "\n",
       "    .dataframe thead th {\n",
       "        text-align: right;\n",
       "    }\n",
       "</style>\n",
       "<table border=\"1\" class=\"dataframe\">\n",
       "  <thead>\n",
       "    <tr style=\"text-align: right;\">\n",
       "      <th>spending_flag</th>\n",
       "      <th>High spender</th>\n",
       "      <th>Low spender</th>\n",
       "    </tr>\n",
       "    <tr>\n",
       "      <th>loyalty_flag</th>\n",
       "      <th></th>\n",
       "      <th></th>\n",
       "    </tr>\n",
       "  </thead>\n",
       "  <tbody>\n",
       "    <tr>\n",
       "      <th>Regular customer</th>\n",
       "      <td>302814</td>\n",
       "      <td>15573962</td>\n",
       "    </tr>\n",
       "    <tr>\n",
       "      <th>Loyal customer</th>\n",
       "      <td>216600</td>\n",
       "      <td>10067493</td>\n",
       "    </tr>\n",
       "    <tr>\n",
       "      <th>New customer</th>\n",
       "      <td>84011</td>\n",
       "      <td>4719684</td>\n",
       "    </tr>\n",
       "  </tbody>\n",
       "</table>\n",
       "</div>"
      ],
      "text/plain": [
       "spending_flag     High spender  Low spender\n",
       "loyalty_flag                               \n",
       "Regular customer        302814     15573962\n",
       "Loyal customer          216600     10067493\n",
       "New customer             84011      4719684"
      ]
     },
     "execution_count": 36,
     "metadata": {},
     "output_type": "execute_result"
    }
   ],
   "source": [
    "# Print sorted crosstab_1\n",
    "crosstab_1"
   ]
  },
  {
   "cell_type": "code",
   "execution_count": 39,
   "id": "a0866d38",
   "metadata": {},
   "outputs": [],
   "source": [
    "# Print sorted crosstab_1\n",
    "pd.options.display.float_format = '{:,}'.format"
   ]
  },
  {
   "cell_type": "code",
   "execution_count": null,
   "id": "78a45e85",
   "metadata": {},
   "outputs": [],
   "source": [
    "df_ords_prods_all = df_ords_prods_all.style.format('{:,}')"
   ]
  },
  {
   "cell_type": "code",
   "execution_count": 34,
   "id": "22a1d3d8",
   "metadata": {},
   "outputs": [
    {
     "ename": "IndexError",
     "evalue": "Replacement index 0 out of range for positional args tuple",
     "output_type": "error",
     "traceback": [
      "\u001b[1;31m---------------------------------------------------------------------------\u001b[0m",
      "\u001b[1;31mIndexError\u001b[0m                                Traceback (most recent call last)",
      "\u001b[1;32m~\\AppData\\Local\\Temp\\ipykernel_24808\\3122641389.py\u001b[0m in \u001b[0;36m<module>\u001b[1;34m\u001b[0m\n\u001b[0;32m      1\u001b[0m \u001b[1;31m# Print sorted crosstab_1\u001b[0m\u001b[1;33m\u001b[0m\u001b[1;33m\u001b[0m\u001b[0m\n\u001b[1;32m----> 2\u001b[1;33m \u001b[0mcrosstab_1\u001b[0m \u001b[1;33m=\u001b[0m \u001b[1;34m'{:,}'\u001b[0m\u001b[1;33m.\u001b[0m\u001b[0mformat\u001b[0m\u001b[1;33m(\u001b[0m\u001b[1;33m)\u001b[0m\u001b[1;33m\u001b[0m\u001b[1;33m\u001b[0m\u001b[0m\n\u001b[0m",
      "\u001b[1;31mIndexError\u001b[0m: Replacement index 0 out of range for positional args tuple"
     ]
    }
   ],
   "source": [
    "# Print sorted crosstab_1\n",
    "crosstab_1 = '{:,}'.format()"
   ]
  },
  {
   "cell_type": "code",
   "execution_count": 21,
   "id": "d491bfac",
   "metadata": {},
   "outputs": [],
   "source": [
    "# Sort crosstab_1 by 'High Spender'\n",
    "crosstab_1 = crosstab_1.sort_values(by = 'High spender',ascending = True)"
   ]
  },
  {
   "cell_type": "code",
   "execution_count": 22,
   "id": "40c11554",
   "metadata": {},
   "outputs": [
    {
     "data": {
      "text/plain": [
       "[Text(0, 0, '33451'),\n",
       " Text(0, 0, '34411'),\n",
       " Text(0, 0, '64768'),\n",
       " Text(0, 0, '93060'),\n",
       " Text(0, 0, '144627'),\n",
       " Text(0, 0, '255991'),\n",
       " Text(0, 0, '410392'),\n",
       " Text(0, 0, '424306'),\n",
       " Text(0, 0, '670850'),\n",
       " Text(0, 0, '674781'),\n",
       " Text(0, 0, '699857'),\n",
       " Text(0, 0, '822136'),\n",
       " Text(0, 0, '1.00383e+06'),\n",
       " Text(0, 0, '1.01207e+06'),\n",
       " Text(0, 0, '1.12083e+06'),\n",
       " Text(0, 0, '1.7827e+06'),\n",
       " Text(0, 0, '2.12173e+06'),\n",
       " Text(0, 0, '2.5719e+06'),\n",
       " Text(0, 0, '2.76641e+06'),\n",
       " Text(0, 0, '5.17718e+06'),\n",
       " Text(0, 0, '9.07927e+06')]"
      ]
     },
     "execution_count": 22,
     "metadata": {},
     "output_type": "execute_result"
    },
    {
     "data": {
      "image/png": "[encoded data removed]",
      "text/plain": [
       "<Figure size 640x480 with 1 Axes>"
      ]
     },
     "metadata": {},
     "output_type": "display_data"
    }
   ],
   "source": [
    "# Create bar chart of crosstab_1\n",
    "bar_3 = crosstab_1.plot(kind = 'barh', logx = True, color = ['steelblue', 'cadetblue'])\n",
    "plt.xlabel('Average Spending (log scale)')\n",
    "plt.ylabel('')\n",
    "plt.title('Average Spending by Loyalty Status')\n",
    "plt.legend(bbox_to_anchor=(1.05, 1.0), loc = 'upper left', ncol = 1)\n",
    "bar_3.bar_label(bar_1.containers[0], label_type='edge')"
   ]
  },
  {
   "cell_type": "code",
   "execution_count": 21,
   "id": "67e6fae1",
   "metadata": {},
   "outputs": [],
   "source": [
    "# Save 'bar_3' object to file\n",
    "bar_3.figure.savefig(os.path.join(path, '04 Analysis','Visualizations', 'barh_loyalty_spending.png'))"
   ]
  },
  {
   "cell_type": "code",
   "execution_count": 22,
   "id": "0ff15472",
   "metadata": {},
   "outputs": [],
   "source": [
    "# Create percentage crosstab between 'loyalty_flag' and 'spending_flag'\n",
    "crosstab_1_percent = pd.crosstab(df_ords_prods_all['loyalty_flag'], df_ords_prods_all['spending_flag'], normalize = 'index', dropna = False).round(4)*100"
   ]
  },
  {
   "cell_type": "code",
   "execution_count": 23,
   "id": "835450b3",
   "metadata": {},
   "outputs": [],
   "source": [
    "# Sort crosstab_1 by 'High Spender'\n",
    "crosstab_1_percent = crosstab_1_percent.sort_values(by = 'High spender',ascending = False)"
   ]
  },
  {
   "cell_type": "code",
   "execution_count": 24,
   "id": "838a348d",
   "metadata": {},
   "outputs": [
    {
     "data": {
      "text/html": [
       "<div>\n",
       "<style scoped>\n",
       "    .dataframe tbody tr th:only-of-type {\n",
       "        vertical-align: middle;\n",
       "    }\n",
       "\n",
       "    .dataframe tbody tr th {\n",
       "        vertical-align: top;\n",
       "    }\n",
       "\n",
       "    .dataframe thead th {\n",
       "        text-align: right;\n",
       "    }\n",
       "</style>\n",
       "<table border=\"1\" class=\"dataframe\">\n",
       "  <thead>\n",
       "    <tr style=\"text-align: right;\">\n",
       "      <th>spending_flag</th>\n",
       "      <th>High spender</th>\n",
       "      <th>Low spender</th>\n",
       "    </tr>\n",
       "    <tr>\n",
       "      <th>loyalty_flag</th>\n",
       "      <th></th>\n",
       "      <th></th>\n",
       "    </tr>\n",
       "  </thead>\n",
       "  <tbody>\n",
       "    <tr>\n",
       "      <th>Loyal customer</th>\n",
       "      <td>2.11</td>\n",
       "      <td>97.89</td>\n",
       "    </tr>\n",
       "    <tr>\n",
       "      <th>Regular customer</th>\n",
       "      <td>1.91</td>\n",
       "      <td>98.09</td>\n",
       "    </tr>\n",
       "    <tr>\n",
       "      <th>New customer</th>\n",
       "      <td>1.75</td>\n",
       "      <td>98.25</td>\n",
       "    </tr>\n",
       "  </tbody>\n",
       "</table>\n",
       "</div>"
      ],
      "text/plain": [
       "spending_flag     High spender  Low spender\n",
       "loyalty_flag                               \n",
       "Loyal customer            2.11        97.89\n",
       "Regular customer          1.91        98.09\n",
       "New customer              1.75        98.25"
      ]
     },
     "execution_count": 24,
     "metadata": {},
     "output_type": "execute_result"
    }
   ],
   "source": [
    "# Print sorted crosstab_1_percent\n",
    "crosstab_1_percent"
   ]
  },
  {
   "cell_type": "code",
   "execution_count": 30,
   "id": "63a73a12",
   "metadata": {},
   "outputs": [],
   "source": [
    "# Sort crosstab_1 by 'High Spender'\n",
    "crosstab_1_percent = crosstab_1_percent.sort_values(by = 'High spender',ascending = True)"
   ]
  },
  {
   "cell_type": "code",
   "execution_count": 28,
   "id": "f882fa40",
   "metadata": {},
   "outputs": [
    {
     "data": {
      "text/plain": [
       "<matplotlib.legend.Legend at 0x1c3c500a970>"
      ]
     },
     "execution_count": 28,
     "metadata": {},
     "output_type": "execute_result"
    },
    {
     "data": {
      "image/png": "[encoded data removed]",
      "text/plain": [
       "<Figure size 640x480 with 1 Axes>"
      ]
     },
     "metadata": {},
     "output_type": "display_data"
    }
   ],
   "source": [
    "# Create bar chart of crosstab_1_percent\n",
    "bar_4 = crosstab_1_percent.plot(kind = 'barh', color = ['steelblue', 'cadetblue'])\n",
    "plt.xlabel('Percentage of Total Spending')\n",
    "plt.ylabel('')\n",
    "plt.title('Average Spending by Loyalty Status')\n",
    "plt.legend(bbox_to_anchor=(1.05, 1.0), loc = 'upper left', ncol = 1)"
   ]
  },
  {
   "cell_type": "code",
   "execution_count": 31,
   "id": "8db592f2",
   "metadata": {},
   "outputs": [],
   "source": [
    "# Save 'bar_4' object to file\n",
    "bar_4.figure.savefig(os.path.join(path, '04 Analysis','Visualizations', 'barh_loyalty_percent_spending.png'))"
   ]
  },
  {
   "cell_type": "code",
   "execution_count": 32,
   "id": "c1861d73",
   "metadata": {},
   "outputs": [],
   "source": [
    "# Create crosstab between 'loyalty_flag' and 'order_frequency_flag' columns\n",
    "crosstab_2 = pd.crosstab(df_ords_prods_all['loyalty_flag'], df_ords_prods_all['order_frequency_flag'], dropna = False)"
   ]
  },
  {
   "cell_type": "code",
   "execution_count": 33,
   "id": "b105f3dc",
   "metadata": {},
   "outputs": [
    {
     "data": {
      "text/html": [
       "<div>\n",
       "<style scoped>\n",
       "    .dataframe tbody tr th:only-of-type {\n",
       "        vertical-align: middle;\n",
       "    }\n",
       "\n",
       "    .dataframe tbody tr th {\n",
       "        vertical-align: top;\n",
       "    }\n",
       "\n",
       "    .dataframe thead th {\n",
       "        text-align: right;\n",
       "    }\n",
       "</style>\n",
       "<table border=\"1\" class=\"dataframe\">\n",
       "  <thead>\n",
       "    <tr style=\"text-align: right;\">\n",
       "      <th>order_frequency_flag</th>\n",
       "      <th>Frequent customer</th>\n",
       "      <th>Non-frequent customer</th>\n",
       "      <th>Regular customer</th>\n",
       "    </tr>\n",
       "    <tr>\n",
       "      <th>loyalty_flag</th>\n",
       "      <th></th>\n",
       "      <th></th>\n",
       "      <th></th>\n",
       "    </tr>\n",
       "  </thead>\n",
       "  <tbody>\n",
       "    <tr>\n",
       "      <th>Loyal customer</th>\n",
       "      <td>10281575</td>\n",
       "      <td>0</td>\n",
       "      <td>2518</td>\n",
       "    </tr>\n",
       "    <tr>\n",
       "      <th>New customer</th>\n",
       "      <td>1660212</td>\n",
       "      <td>1526642</td>\n",
       "      <td>1616841</td>\n",
       "    </tr>\n",
       "    <tr>\n",
       "      <th>Regular customer</th>\n",
       "      <td>10267117</td>\n",
       "      <td>660775</td>\n",
       "      <td>4948884</td>\n",
       "    </tr>\n",
       "  </tbody>\n",
       "</table>\n",
       "</div>"
      ],
      "text/plain": [
       "order_frequency_flag  Frequent customer  Non-frequent customer  \\\n",
       "loyalty_flag                                                     \n",
       "Loyal customer                 10281575                      0   \n",
       "New customer                    1660212                1526642   \n",
       "Regular customer               10267117                 660775   \n",
       "\n",
       "order_frequency_flag  Regular customer  \n",
       "loyalty_flag                            \n",
       "Loyal customer                    2518  \n",
       "New customer                   1616841  \n",
       "Regular customer               4948884  "
      ]
     },
     "execution_count": 33,
     "metadata": {},
     "output_type": "execute_result"
    }
   ],
   "source": [
    "# Print crosstab_2 \n",
    "crosstab_2"
   ]
  },
  {
   "cell_type": "code",
   "execution_count": 34,
   "id": "3970d7cb",
   "metadata": {},
   "outputs": [],
   "source": [
    "# Sort crosstab_2 by 'Frequent customer'\n",
    "crosstab_2 = crosstab_2.sort_values(by = 'Frequent customer',ascending = False)"
   ]
  },
  {
   "cell_type": "code",
   "execution_count": 35,
   "id": "c1eaf913",
   "metadata": {},
   "outputs": [
    {
     "data": {
      "text/html": [
       "<div>\n",
       "<style scoped>\n",
       "    .dataframe tbody tr th:only-of-type {\n",
       "        vertical-align: middle;\n",
       "    }\n",
       "\n",
       "    .dataframe tbody tr th {\n",
       "        vertical-align: top;\n",
       "    }\n",
       "\n",
       "    .dataframe thead th {\n",
       "        text-align: right;\n",
       "    }\n",
       "</style>\n",
       "<table border=\"1\" class=\"dataframe\">\n",
       "  <thead>\n",
       "    <tr style=\"text-align: right;\">\n",
       "      <th>order_frequency_flag</th>\n",
       "      <th>Frequent customer</th>\n",
       "      <th>Non-frequent customer</th>\n",
       "      <th>Regular customer</th>\n",
       "    </tr>\n",
       "    <tr>\n",
       "      <th>loyalty_flag</th>\n",
       "      <th></th>\n",
       "      <th></th>\n",
       "      <th></th>\n",
       "    </tr>\n",
       "  </thead>\n",
       "  <tbody>\n",
       "    <tr>\n",
       "      <th>Loyal customer</th>\n",
       "      <td>10281575</td>\n",
       "      <td>0</td>\n",
       "      <td>2518</td>\n",
       "    </tr>\n",
       "    <tr>\n",
       "      <th>Regular customer</th>\n",
       "      <td>10267117</td>\n",
       "      <td>660775</td>\n",
       "      <td>4948884</td>\n",
       "    </tr>\n",
       "    <tr>\n",
       "      <th>New customer</th>\n",
       "      <td>1660212</td>\n",
       "      <td>1526642</td>\n",
       "      <td>1616841</td>\n",
       "    </tr>\n",
       "  </tbody>\n",
       "</table>\n",
       "</div>"
      ],
      "text/plain": [
       "order_frequency_flag  Frequent customer  Non-frequent customer  \\\n",
       "loyalty_flag                                                     \n",
       "Loyal customer                 10281575                      0   \n",
       "Regular customer               10267117                 660775   \n",
       "New customer                    1660212                1526642   \n",
       "\n",
       "order_frequency_flag  Regular customer  \n",
       "loyalty_flag                            \n",
       "Loyal customer                    2518  \n",
       "Regular customer               4948884  \n",
       "New customer                   1616841  "
      ]
     },
     "execution_count": 35,
     "metadata": {},
     "output_type": "execute_result"
    }
   ],
   "source": [
    "# Print sorted crosstab_2 \n",
    "crosstab_2"
   ]
  },
  {
   "cell_type": "code",
   "execution_count": 36,
   "id": "c65feed7",
   "metadata": {},
   "outputs": [],
   "source": [
    "# Sort crosstab_2 by 'Frequent customer'\n",
    "crosstab_2 = crosstab_2.sort_values(by = 'Frequent customer',ascending = True)"
   ]
  },
  {
   "cell_type": "code",
   "execution_count": 37,
   "id": "76974444",
   "metadata": {},
   "outputs": [
    {
     "data": {
      "text/plain": [
       "<matplotlib.legend.Legend at 0x1c3c553d0d0>"
      ]
     },
     "execution_count": 37,
     "metadata": {},
     "output_type": "execute_result"
    },
    {
     "data": {
      "image/png": "[encoded data removed]",
      "text/plain": [
       "<Figure size 640x480 with 1 Axes>"
      ]
     },
     "metadata": {},
     "output_type": "display_data"
    }
   ],
   "source": [
    "# Create bar chart of crosstab_2\n",
    "bar_5 = crosstab_2.plot(kind = 'barh', color = ['steelblue', 'cadetblue', 'lightblue'])\n",
    "plt.xlabel('Order Frequency')\n",
    "plt.ylabel('')\n",
    "plt.title('Order Frequency by Loyalty Status')\n",
    "plt.legend(bbox_to_anchor=(1.05, 1.0), loc = 'upper left', ncol = 1)"
   ]
  },
  {
   "cell_type": "code",
   "execution_count": 38,
   "id": "dc8ed37b",
   "metadata": {},
   "outputs": [],
   "source": [
    "# Save 'bar_5' object to file\n",
    "bar_5.figure.savefig(os.path.join(path, '04 Analysis','Visualizations', 'barh_loyalty_order_frequency.png'))"
   ]
  },
  {
   "cell_type": "code",
   "execution_count": 39,
   "id": "b70b26c8",
   "metadata": {},
   "outputs": [],
   "source": [
    "# Create percentage crosstab between 'loyalty_flag' and 'order_frequency_flag'\n",
    "crosstab_2_percent = pd.crosstab(df_ords_prods_all['loyalty_flag'], df_ords_prods_all['order_frequency_flag'], normalize = 'index', dropna = False).round(4)*100"
   ]
  },
  {
   "cell_type": "code",
   "execution_count": 40,
   "id": "ade9746f",
   "metadata": {},
   "outputs": [
    {
     "data": {
      "text/html": [
       "<div>\n",
       "<style scoped>\n",
       "    .dataframe tbody tr th:only-of-type {\n",
       "        vertical-align: middle;\n",
       "    }\n",
       "\n",
       "    .dataframe tbody tr th {\n",
       "        vertical-align: top;\n",
       "    }\n",
       "\n",
       "    .dataframe thead th {\n",
       "        text-align: right;\n",
       "    }\n",
       "</style>\n",
       "<table border=\"1\" class=\"dataframe\">\n",
       "  <thead>\n",
       "    <tr style=\"text-align: right;\">\n",
       "      <th>order_frequency_flag</th>\n",
       "      <th>Frequent customer</th>\n",
       "      <th>Non-frequent customer</th>\n",
       "      <th>Regular customer</th>\n",
       "    </tr>\n",
       "    <tr>\n",
       "      <th>loyalty_flag</th>\n",
       "      <th></th>\n",
       "      <th></th>\n",
       "      <th></th>\n",
       "    </tr>\n",
       "  </thead>\n",
       "  <tbody>\n",
       "    <tr>\n",
       "      <th>Loyal customer</th>\n",
       "      <td>99.98</td>\n",
       "      <td>0.00</td>\n",
       "      <td>0.02</td>\n",
       "    </tr>\n",
       "    <tr>\n",
       "      <th>New customer</th>\n",
       "      <td>34.56</td>\n",
       "      <td>31.78</td>\n",
       "      <td>33.66</td>\n",
       "    </tr>\n",
       "    <tr>\n",
       "      <th>Regular customer</th>\n",
       "      <td>64.67</td>\n",
       "      <td>4.16</td>\n",
       "      <td>31.17</td>\n",
       "    </tr>\n",
       "  </tbody>\n",
       "</table>\n",
       "</div>"
      ],
      "text/plain": [
       "order_frequency_flag  Frequent customer  Non-frequent customer  \\\n",
       "loyalty_flag                                                     \n",
       "Loyal customer                    99.98                   0.00   \n",
       "New customer                      34.56                  31.78   \n",
       "Regular customer                  64.67                   4.16   \n",
       "\n",
       "order_frequency_flag  Regular customer  \n",
       "loyalty_flag                            \n",
       "Loyal customer                    0.02  \n",
       "New customer                     33.66  \n",
       "Regular customer                 31.17  "
      ]
     },
     "execution_count": 40,
     "metadata": {},
     "output_type": "execute_result"
    }
   ],
   "source": [
    "# Print crosstab_2_percent \n",
    "crosstab_2_percent"
   ]
  },
  {
   "cell_type": "code",
   "execution_count": 41,
   "id": "97a3ad04",
   "metadata": {},
   "outputs": [],
   "source": [
    "# Sort crosstab_2_percent by 'Frequent customer'\n",
    "crosstab_2_percent = crosstab_2_percent.sort_values(by = 'Frequent customer',ascending = False)"
   ]
  },
  {
   "cell_type": "code",
   "execution_count": 42,
   "id": "fd120dea",
   "metadata": {},
   "outputs": [
    {
     "data": {
      "text/html": [
       "<div>\n",
       "<style scoped>\n",
       "    .dataframe tbody tr th:only-of-type {\n",
       "        vertical-align: middle;\n",
       "    }\n",
       "\n",
       "    .dataframe tbody tr th {\n",
       "        vertical-align: top;\n",
       "    }\n",
       "\n",
       "    .dataframe thead th {\n",
       "        text-align: right;\n",
       "    }\n",
       "</style>\n",
       "<table border=\"1\" class=\"dataframe\">\n",
       "  <thead>\n",
       "    <tr style=\"text-align: right;\">\n",
       "      <th>order_frequency_flag</th>\n",
       "      <th>Frequent customer</th>\n",
       "      <th>Non-frequent customer</th>\n",
       "      <th>Regular customer</th>\n",
       "    </tr>\n",
       "    <tr>\n",
       "      <th>loyalty_flag</th>\n",
       "      <th></th>\n",
       "      <th></th>\n",
       "      <th></th>\n",
       "    </tr>\n",
       "  </thead>\n",
       "  <tbody>\n",
       "    <tr>\n",
       "      <th>Loyal customer</th>\n",
       "      <td>99.98</td>\n",
       "      <td>0.00</td>\n",
       "      <td>0.02</td>\n",
       "    </tr>\n",
       "    <tr>\n",
       "      <th>Regular customer</th>\n",
       "      <td>64.67</td>\n",
       "      <td>4.16</td>\n",
       "      <td>31.17</td>\n",
       "    </tr>\n",
       "    <tr>\n",
       "      <th>New customer</th>\n",
       "      <td>34.56</td>\n",
       "      <td>31.78</td>\n",
       "      <td>33.66</td>\n",
       "    </tr>\n",
       "  </tbody>\n",
       "</table>\n",
       "</div>"
      ],
      "text/plain": [
       "order_frequency_flag  Frequent customer  Non-frequent customer  \\\n",
       "loyalty_flag                                                     \n",
       "Loyal customer                    99.98                   0.00   \n",
       "Regular customer                  64.67                   4.16   \n",
       "New customer                      34.56                  31.78   \n",
       "\n",
       "order_frequency_flag  Regular customer  \n",
       "loyalty_flag                            \n",
       "Loyal customer                    0.02  \n",
       "Regular customer                 31.17  \n",
       "New customer                     33.66  "
      ]
     },
     "execution_count": 42,
     "metadata": {},
     "output_type": "execute_result"
    }
   ],
   "source": [
    "# Print sorted crosstab_2_percent \n",
    "crosstab_2_percent"
   ]
  },
  {
   "cell_type": "code",
   "execution_count": 43,
   "id": "fb17cc14",
   "metadata": {},
   "outputs": [],
   "source": [
    "# Sort crosstab_2_percent by 'Frequent customer'\n",
    "crosstab_2_percent = crosstab_2_percent.sort_values(by = 'Frequent customer',ascending = True)"
   ]
  },
  {
   "cell_type": "code",
   "execution_count": 44,
   "id": "521afaed",
   "metadata": {},
   "outputs": [
    {
     "data": {
      "text/plain": [
       "<matplotlib.legend.Legend at 0x1c3c5a92f70>"
      ]
     },
     "execution_count": 44,
     "metadata": {},
     "output_type": "execute_result"
    },
    {
     "data": {
      "image/png": "[encoded data removed]",
      "text/plain": [
       "<Figure size 640x480 with 1 Axes>"
      ]
     },
     "metadata": {},
     "output_type": "display_data"
    }
   ],
   "source": [
    "# Create bar chart of crosstab_2_percent\n",
    "bar_6 = crosstab_2_percent.plot(kind = 'barh', stacked = True, color = ['steelblue', 'cadetblue', 'lightblue'])\n",
    "plt.xlabel('Order Frequency')\n",
    "plt.ylabel('')\n",
    "plt.title('Order Frequency by Loyalty Status')\n",
    "plt.legend(bbox_to_anchor=(1.05, 1.0), loc = 'upper left', ncol = 1)"
   ]
  },
  {
   "cell_type": "code",
   "execution_count": 45,
   "id": "6f7dc4e4",
   "metadata": {},
   "outputs": [],
   "source": [
    "# Save 'bar_6' object to file\n",
    "bar_6.figure.savefig(os.path.join(path, '04 Analysis','Visualizations', 'barh_loyalty_order_frequency_percent.png'))"
   ]
  },
  {
   "cell_type": "markdown",
   "id": "e7967b90",
   "metadata": {},
   "source": [
    "6. Comparing ordering frequency by age category"
   ]
  },
  {
   "cell_type": "code",
   "execution_count": 46,
   "id": "bc28de26",
   "metadata": {},
   "outputs": [],
   "source": [
    "# Create crosstab between 'age' and 'order_frequency_flag' columns\n",
    "crosstab_3 = pd.crosstab(df_ords_prods_all['age_range'], df_ords_prods_all['order_frequency_flag'], dropna = False)"
   ]
  },
  {
   "cell_type": "code",
   "execution_count": 47,
   "id": "b730e6ce",
   "metadata": {},
   "outputs": [],
   "source": [
    "# Sort crosstab_3 by 'Frequent customer'\n",
    "crosstab_3 = crosstab_3.sort_values(by = 'Frequent customer',ascending = False)"
   ]
  },
  {
   "cell_type": "code",
   "execution_count": 48,
   "id": "b7cd08ab",
   "metadata": {},
   "outputs": [
    {
     "data": {
      "text/html": [
       "<div>\n",
       "<style scoped>\n",
       "    .dataframe tbody tr th:only-of-type {\n",
       "        vertical-align: middle;\n",
       "    }\n",
       "\n",
       "    .dataframe tbody tr th {\n",
       "        vertical-align: top;\n",
       "    }\n",
       "\n",
       "    .dataframe thead th {\n",
       "        text-align: right;\n",
       "    }\n",
       "</style>\n",
       "<table border=\"1\" class=\"dataframe\">\n",
       "  <thead>\n",
       "    <tr style=\"text-align: right;\">\n",
       "      <th>order_frequency_flag</th>\n",
       "      <th>Frequent customer</th>\n",
       "      <th>Non-frequent customer</th>\n",
       "      <th>Regular customer</th>\n",
       "    </tr>\n",
       "    <tr>\n",
       "      <th>age_range</th>\n",
       "      <th></th>\n",
       "      <th></th>\n",
       "      <th></th>\n",
       "    </tr>\n",
       "  </thead>\n",
       "  <tbody>\n",
       "    <tr>\n",
       "      <th>Young adult</th>\n",
       "      <td>5902882</td>\n",
       "      <td>583439</td>\n",
       "      <td>1755974</td>\n",
       "    </tr>\n",
       "    <tr>\n",
       "      <th>Older adult</th>\n",
       "      <td>5895127</td>\n",
       "      <td>574400</td>\n",
       "      <td>1726017</td>\n",
       "    </tr>\n",
       "    <tr>\n",
       "      <th>Early middle-age adult</th>\n",
       "      <td>5242718</td>\n",
       "      <td>517795</td>\n",
       "      <td>1545481</td>\n",
       "    </tr>\n",
       "    <tr>\n",
       "      <th>Late middle-age adult</th>\n",
       "      <td>5168177</td>\n",
       "      <td>511783</td>\n",
       "      <td>1540771</td>\n",
       "    </tr>\n",
       "  </tbody>\n",
       "</table>\n",
       "</div>"
      ],
      "text/plain": [
       "order_frequency_flag    Frequent customer  Non-frequent customer  \\\n",
       "age_range                                                          \n",
       "Young adult                       5902882                 583439   \n",
       "Older adult                       5895127                 574400   \n",
       "Early middle-age adult            5242718                 517795   \n",
       "Late middle-age adult             5168177                 511783   \n",
       "\n",
       "order_frequency_flag    Regular customer  \n",
       "age_range                                 \n",
       "Young adult                      1755974  \n",
       "Older adult                      1726017  \n",
       "Early middle-age adult           1545481  \n",
       "Late middle-age adult            1540771  "
      ]
     },
     "execution_count": 48,
     "metadata": {},
     "output_type": "execute_result"
    }
   ],
   "source": [
    "# Print sorted crosstab_3 \n",
    "crosstab_3"
   ]
  },
  {
   "cell_type": "code",
   "execution_count": 49,
   "id": "d915e3c7",
   "metadata": {},
   "outputs": [],
   "source": [
    "# Sort crosstab_3 by 'Frequent customer'\n",
    "crosstab_3 = crosstab_3.sort_values(by = 'Frequent customer',ascending = True)"
   ]
  },
  {
   "cell_type": "code",
   "execution_count": 50,
   "id": "04d8193b",
   "metadata": {},
   "outputs": [
    {
     "data": {
      "text/plain": [
       "<matplotlib.legend.Legend at 0x1c3c55b1d90>"
      ]
     },
     "execution_count": 50,
     "metadata": {},
     "output_type": "execute_result"
    },
    {
     "data": {
      "image/png": "[encoded data removed]",
      "text/plain": [
       "<Figure size 640x480 with 1 Axes>"
      ]
     },
     "metadata": {},
     "output_type": "display_data"
    }
   ],
   "source": [
    "# Create bar chart of crosstab_2\n",
    "bar_7 = crosstab_3.plot(kind = 'barh', color = ['steelblue', 'cadetblue', 'lightblue'])\n",
    "plt.xlabel('Order Frequency')\n",
    "plt.ylabel('')\n",
    "plt.title('Order Frequency by Age Category')\n",
    "plt.legend(bbox_to_anchor=(1.05, 1.0), loc = 'upper left', ncol = 1)"
   ]
  },
  {
   "cell_type": "code",
   "execution_count": 51,
   "id": "e0e4ebf2",
   "metadata": {},
   "outputs": [],
   "source": [
    "# Save 'bar_7' object to file\n",
    "bar_7.figure.savefig(os.path.join(path, '04 Analysis','Visualizations', 'barh_age_order_frequency.png'))"
   ]
  },
  {
   "cell_type": "code",
   "execution_count": 52,
   "id": "c55da241",
   "metadata": {},
   "outputs": [],
   "source": [
    "# Create percentage crosstab between 'age' and 'order_frequency_flag'\n",
    "crosstab_3_percent = pd.crosstab(df_ords_prods_all['age_range'], df_ords_prods_all['order_frequency_flag'], normalize = 'index', dropna = False).round(4)*100"
   ]
  },
  {
   "cell_type": "code",
   "execution_count": 53,
   "id": "947d8d05",
   "metadata": {},
   "outputs": [],
   "source": [
    "# Sort crosstab_3 by 'Frequent customer'\n",
    "crosstab_3_percent = crosstab_3_percent.sort_values(by = 'Frequent customer',ascending = False)"
   ]
  },
  {
   "cell_type": "code",
   "execution_count": 54,
   "id": "1debd7e4",
   "metadata": {},
   "outputs": [
    {
     "data": {
      "text/html": [
       "<div>\n",
       "<style scoped>\n",
       "    .dataframe tbody tr th:only-of-type {\n",
       "        vertical-align: middle;\n",
       "    }\n",
       "\n",
       "    .dataframe tbody tr th {\n",
       "        vertical-align: top;\n",
       "    }\n",
       "\n",
       "    .dataframe thead th {\n",
       "        text-align: right;\n",
       "    }\n",
       "</style>\n",
       "<table border=\"1\" class=\"dataframe\">\n",
       "  <thead>\n",
       "    <tr style=\"text-align: right;\">\n",
       "      <th>order_frequency_flag</th>\n",
       "      <th>Frequent customer</th>\n",
       "      <th>Non-frequent customer</th>\n",
       "      <th>Regular customer</th>\n",
       "    </tr>\n",
       "    <tr>\n",
       "      <th>age_range</th>\n",
       "      <th></th>\n",
       "      <th></th>\n",
       "      <th></th>\n",
       "    </tr>\n",
       "  </thead>\n",
       "  <tbody>\n",
       "    <tr>\n",
       "      <th>Older adult</th>\n",
       "      <td>71.93</td>\n",
       "      <td>7.01</td>\n",
       "      <td>21.06</td>\n",
       "    </tr>\n",
       "    <tr>\n",
       "      <th>Early middle-age adult</th>\n",
       "      <td>71.76</td>\n",
       "      <td>7.09</td>\n",
       "      <td>21.15</td>\n",
       "    </tr>\n",
       "    <tr>\n",
       "      <th>Young adult</th>\n",
       "      <td>71.62</td>\n",
       "      <td>7.08</td>\n",
       "      <td>21.30</td>\n",
       "    </tr>\n",
       "    <tr>\n",
       "      <th>Late middle-age adult</th>\n",
       "      <td>71.57</td>\n",
       "      <td>7.09</td>\n",
       "      <td>21.34</td>\n",
       "    </tr>\n",
       "  </tbody>\n",
       "</table>\n",
       "</div>"
      ],
      "text/plain": [
       "order_frequency_flag    Frequent customer  Non-frequent customer  \\\n",
       "age_range                                                          \n",
       "Older adult                         71.93                   7.01   \n",
       "Early middle-age adult              71.76                   7.09   \n",
       "Young adult                         71.62                   7.08   \n",
       "Late middle-age adult               71.57                   7.09   \n",
       "\n",
       "order_frequency_flag    Regular customer  \n",
       "age_range                                 \n",
       "Older adult                        21.06  \n",
       "Early middle-age adult             21.15  \n",
       "Young adult                        21.30  \n",
       "Late middle-age adult              21.34  "
      ]
     },
     "execution_count": 54,
     "metadata": {},
     "output_type": "execute_result"
    }
   ],
   "source": [
    "# Print sorted crosstab_3_percent \n",
    "crosstab_3_percent"
   ]
  },
  {
   "cell_type": "markdown",
   "id": "7938c8c0",
   "metadata": {},
   "source": [
    "7. Comparing ordering frequency by family status and family size"
   ]
  },
  {
   "cell_type": "code",
   "execution_count": 55,
   "id": "f85fc2f6",
   "metadata": {},
   "outputs": [],
   "source": [
    "# Create crosstab between 'fam_status' and 'order_frequency_flag' columns\n",
    "crosstab_4 = pd.crosstab(df_ords_prods_all['fam_status'], df_ords_prods_all['order_frequency_flag'], dropna = False)"
   ]
  },
  {
   "cell_type": "code",
   "execution_count": 56,
   "id": "fb5f7d5e",
   "metadata": {},
   "outputs": [],
   "source": [
    "# Sort crosstab_4 by 'Frequent customer'\n",
    "crosstab_4 = crosstab_4.sort_values(by = 'Frequent customer',ascending = False)"
   ]
  },
  {
   "cell_type": "code",
   "execution_count": 57,
   "id": "2a8db91e",
   "metadata": {},
   "outputs": [
    {
     "data": {
      "text/html": [
       "<div>\n",
       "<style scoped>\n",
       "    .dataframe tbody tr th:only-of-type {\n",
       "        vertical-align: middle;\n",
       "    }\n",
       "\n",
       "    .dataframe tbody tr th {\n",
       "        vertical-align: top;\n",
       "    }\n",
       "\n",
       "    .dataframe thead th {\n",
       "        text-align: right;\n",
       "    }\n",
       "</style>\n",
       "<table border=\"1\" class=\"dataframe\">\n",
       "  <thead>\n",
       "    <tr style=\"text-align: right;\">\n",
       "      <th>order_frequency_flag</th>\n",
       "      <th>Frequent customer</th>\n",
       "      <th>Non-frequent customer</th>\n",
       "      <th>Regular customer</th>\n",
       "    </tr>\n",
       "    <tr>\n",
       "      <th>fam_status</th>\n",
       "      <th></th>\n",
       "      <th></th>\n",
       "      <th></th>\n",
       "    </tr>\n",
       "  </thead>\n",
       "  <tbody>\n",
       "    <tr>\n",
       "      <th>married</th>\n",
       "      <td>15587491</td>\n",
       "      <td>1543064</td>\n",
       "      <td>4613156</td>\n",
       "    </tr>\n",
       "    <tr>\n",
       "      <th>single</th>\n",
       "      <td>3640038</td>\n",
       "      <td>355311</td>\n",
       "      <td>1099061</td>\n",
       "    </tr>\n",
       "    <tr>\n",
       "      <th>divorced/widowed</th>\n",
       "      <td>1904044</td>\n",
       "      <td>184799</td>\n",
       "      <td>556428</td>\n",
       "    </tr>\n",
       "    <tr>\n",
       "      <th>living with parents and siblings</th>\n",
       "      <td>1077331</td>\n",
       "      <td>104243</td>\n",
       "      <td>299598</td>\n",
       "    </tr>\n",
       "  </tbody>\n",
       "</table>\n",
       "</div>"
      ],
      "text/plain": [
       "order_frequency_flag              Frequent customer  Non-frequent customer  \\\n",
       "fam_status                                                                   \n",
       "married                                    15587491                1543064   \n",
       "single                                      3640038                 355311   \n",
       "divorced/widowed                            1904044                 184799   \n",
       "living with parents and siblings            1077331                 104243   \n",
       "\n",
       "order_frequency_flag              Regular customer  \n",
       "fam_status                                          \n",
       "married                                    4613156  \n",
       "single                                     1099061  \n",
       "divorced/widowed                            556428  \n",
       "living with parents and siblings            299598  "
      ]
     },
     "execution_count": 57,
     "metadata": {},
     "output_type": "execute_result"
    }
   ],
   "source": [
    "# Print sorted crosstab_4 \n",
    "crosstab_4"
   ]
  },
  {
   "cell_type": "code",
   "execution_count": 58,
   "id": "85c2a5f3",
   "metadata": {},
   "outputs": [],
   "source": [
    "# Sort crosstab_4 by 'Frequent customer'\n",
    "crosstab_4 = crosstab_4.sort_values(by = 'Frequent customer',ascending = True)"
   ]
  },
  {
   "cell_type": "code",
   "execution_count": 59,
   "id": "cd7fc753",
   "metadata": {},
   "outputs": [
    {
     "data": {
      "text/plain": [
       "<matplotlib.legend.Legend at 0x1c3c55b1e20>"
      ]
     },
     "execution_count": 59,
     "metadata": {},
     "output_type": "execute_result"
    },
    {
     "data": {
      "image/png": "[encoded data removed]",
      "text/plain": [
       "<Figure size 640x480 with 1 Axes>"
      ]
     },
     "metadata": {},
     "output_type": "display_data"
    }
   ],
   "source": [
    "# Create bar chart of crosstab_4\n",
    "bar_8 = crosstab_4.plot(kind = 'barh', color = ['steelblue', 'cadetblue', 'lightblue'])\n",
    "plt.xlabel('Order Frequency')\n",
    "plt.ylabel('')\n",
    "plt.title('Order Frequency by Family Status')\n",
    "plt.legend(bbox_to_anchor=(1.05, 1.0), loc = 'upper left', ncol = 1)"
   ]
  },
  {
   "cell_type": "code",
   "execution_count": 60,
   "id": "6d2bbcb8",
   "metadata": {},
   "outputs": [],
   "source": [
    "# Save 'bar_8' object to file\n",
    "bar_8.figure.savefig(os.path.join(path, '04 Analysis','Visualizations', 'barh_fam_status_order_frequency.png'))"
   ]
  },
  {
   "cell_type": "code",
   "execution_count": 61,
   "id": "6fbe9167",
   "metadata": {},
   "outputs": [],
   "source": [
    "# Create percentage crosstab between 'fam_status' and 'order_frequency_flag'\n",
    "crosstab_4_percent = pd.crosstab(df_ords_prods_all['fam_status'], df_ords_prods_all['order_frequency_flag'], normalize = 'index', dropna = False).round(4)*100"
   ]
  },
  {
   "cell_type": "code",
   "execution_count": 62,
   "id": "1a8b3b15",
   "metadata": {},
   "outputs": [],
   "source": [
    "# Sort crosstab_4_percent by 'Frequent customer'\n",
    "crosstab_4_percent = crosstab_4_percent.sort_values(by = 'Frequent customer',ascending = False)"
   ]
  },
  {
   "cell_type": "code",
   "execution_count": 63,
   "id": "053795ae",
   "metadata": {},
   "outputs": [
    {
     "data": {
      "text/html": [
       "<div>\n",
       "<style scoped>\n",
       "    .dataframe tbody tr th:only-of-type {\n",
       "        vertical-align: middle;\n",
       "    }\n",
       "\n",
       "    .dataframe tbody tr th {\n",
       "        vertical-align: top;\n",
       "    }\n",
       "\n",
       "    .dataframe thead th {\n",
       "        text-align: right;\n",
       "    }\n",
       "</style>\n",
       "<table border=\"1\" class=\"dataframe\">\n",
       "  <thead>\n",
       "    <tr style=\"text-align: right;\">\n",
       "      <th>order_frequency_flag</th>\n",
       "      <th>Frequent customer</th>\n",
       "      <th>Non-frequent customer</th>\n",
       "      <th>Regular customer</th>\n",
       "    </tr>\n",
       "    <tr>\n",
       "      <th>fam_status</th>\n",
       "      <th></th>\n",
       "      <th></th>\n",
       "      <th></th>\n",
       "    </tr>\n",
       "  </thead>\n",
       "  <tbody>\n",
       "    <tr>\n",
       "      <th>living with parents and siblings</th>\n",
       "      <td>72.74</td>\n",
       "      <td>7.04</td>\n",
       "      <td>20.23</td>\n",
       "    </tr>\n",
       "    <tr>\n",
       "      <th>divorced/widowed</th>\n",
       "      <td>71.98</td>\n",
       "      <td>6.99</td>\n",
       "      <td>21.03</td>\n",
       "    </tr>\n",
       "    <tr>\n",
       "      <th>married</th>\n",
       "      <td>71.69</td>\n",
       "      <td>7.10</td>\n",
       "      <td>21.22</td>\n",
       "    </tr>\n",
       "    <tr>\n",
       "      <th>single</th>\n",
       "      <td>71.45</td>\n",
       "      <td>6.97</td>\n",
       "      <td>21.57</td>\n",
       "    </tr>\n",
       "  </tbody>\n",
       "</table>\n",
       "</div>"
      ],
      "text/plain": [
       "order_frequency_flag              Frequent customer  Non-frequent customer  \\\n",
       "fam_status                                                                   \n",
       "living with parents and siblings              72.74                   7.04   \n",
       "divorced/widowed                              71.98                   6.99   \n",
       "married                                       71.69                   7.10   \n",
       "single                                        71.45                   6.97   \n",
       "\n",
       "order_frequency_flag              Regular customer  \n",
       "fam_status                                          \n",
       "living with parents and siblings             20.23  \n",
       "divorced/widowed                             21.03  \n",
       "married                                      21.22  \n",
       "single                                       21.57  "
      ]
     },
     "execution_count": 63,
     "metadata": {},
     "output_type": "execute_result"
    }
   ],
   "source": [
    "# Print sorted crosstab_4_percent \n",
    "crosstab_4_percent"
   ]
  },
  {
   "cell_type": "code",
   "execution_count": 64,
   "id": "43f2ced6",
   "metadata": {},
   "outputs": [],
   "source": [
    "# Create crosstab between 'family_size' and 'order_frequency_flag' columns\n",
    "crosstab_5 = pd.crosstab(df_ords_prods_all['family_size'], df_ords_prods_all['order_frequency_flag'], dropna = False)"
   ]
  },
  {
   "cell_type": "code",
   "execution_count": 65,
   "id": "37413407",
   "metadata": {},
   "outputs": [],
   "source": [
    "# Sort crosstab_5 by 'Frequent customer'\n",
    "crosstab_5 = crosstab_5.sort_values(by = 'Frequent customer',ascending = False)"
   ]
  },
  {
   "cell_type": "code",
   "execution_count": 66,
   "id": "bad98405",
   "metadata": {},
   "outputs": [
    {
     "data": {
      "text/html": [
       "<div>\n",
       "<style scoped>\n",
       "    .dataframe tbody tr th:only-of-type {\n",
       "        vertical-align: middle;\n",
       "    }\n",
       "\n",
       "    .dataframe tbody tr th {\n",
       "        vertical-align: top;\n",
       "    }\n",
       "\n",
       "    .dataframe thead th {\n",
       "        text-align: right;\n",
       "    }\n",
       "</style>\n",
       "<table border=\"1\" class=\"dataframe\">\n",
       "  <thead>\n",
       "    <tr style=\"text-align: right;\">\n",
       "      <th>order_frequency_flag</th>\n",
       "      <th>Frequent customer</th>\n",
       "      <th>Non-frequent customer</th>\n",
       "      <th>Regular customer</th>\n",
       "    </tr>\n",
       "    <tr>\n",
       "      <th>family_size</th>\n",
       "      <th></th>\n",
       "      <th></th>\n",
       "      <th></th>\n",
       "    </tr>\n",
       "  </thead>\n",
       "  <tbody>\n",
       "    <tr>\n",
       "      <th>Large family</th>\n",
       "      <td>5563476</td>\n",
       "      <td>549325</td>\n",
       "      <td>1659715</td>\n",
       "    </tr>\n",
       "    <tr>\n",
       "      <th>Medium family</th>\n",
       "      <td>5555864</td>\n",
       "      <td>546824</td>\n",
       "      <td>1630573</td>\n",
       "    </tr>\n",
       "    <tr>\n",
       "      <th>Small family</th>\n",
       "      <td>5545482</td>\n",
       "      <td>551158</td>\n",
       "      <td>1622466</td>\n",
       "    </tr>\n",
       "    <tr>\n",
       "      <th>Single adult</th>\n",
       "      <td>5544082</td>\n",
       "      <td>540110</td>\n",
       "      <td>1655489</td>\n",
       "    </tr>\n",
       "  </tbody>\n",
       "</table>\n",
       "</div>"
      ],
      "text/plain": [
       "order_frequency_flag  Frequent customer  Non-frequent customer  \\\n",
       "family_size                                                      \n",
       "Large family                    5563476                 549325   \n",
       "Medium family                   5555864                 546824   \n",
       "Small family                    5545482                 551158   \n",
       "Single adult                    5544082                 540110   \n",
       "\n",
       "order_frequency_flag  Regular customer  \n",
       "family_size                             \n",
       "Large family                   1659715  \n",
       "Medium family                  1630573  \n",
       "Small family                   1622466  \n",
       "Single adult                   1655489  "
      ]
     },
     "execution_count": 66,
     "metadata": {},
     "output_type": "execute_result"
    }
   ],
   "source": [
    "# Print sorted crosstab_5 \n",
    "crosstab_5"
   ]
  },
  {
   "cell_type": "code",
   "execution_count": 67,
   "id": "b2569b09",
   "metadata": {},
   "outputs": [],
   "source": [
    "# Sort crosstab_5 by 'Frequent customer'\n",
    "crosstab_5 = crosstab_5.sort_values(by = 'Frequent customer',ascending = True)"
   ]
  },
  {
   "cell_type": "code",
   "execution_count": 70,
   "id": "4fb8d2d6",
   "metadata": {},
   "outputs": [
    {
     "data": {
      "text/plain": [
       "<matplotlib.legend.Legend at 0x1c3c6300490>"
      ]
     },
     "execution_count": 70,
     "metadata": {},
     "output_type": "execute_result"
    },
    {
     "data": {
      "image/png": "[encoded data removed]",
      "text/plain": [
       "<Figure size 640x480 with 1 Axes>"
      ]
     },
     "metadata": {},
     "output_type": "display_data"
    }
   ],
   "source": [
    "# Create bar chart of crosstab_5\n",
    "bar_9 = crosstab_5.plot(kind = 'barh', color = ['steelblue', 'cadetblue', 'lightblue'])\n",
    "plt.xlabel('Order Frequency')\n",
    "plt.ylabel('')\n",
    "plt.title('Order Frequency by Family Size')\n",
    "plt.legend(bbox_to_anchor=(1.05, 1.0), loc = 'upper left', ncol = 1)"
   ]
  },
  {
   "cell_type": "code",
   "execution_count": 71,
   "id": "0a3bae58",
   "metadata": {},
   "outputs": [],
   "source": [
    "# Save 'bar_9' object to file\n",
    "bar_9.figure.savefig(os.path.join(path, '04 Analysis','Visualizations', 'barh_fam_size_order_frequency.png'))"
   ]
  },
  {
   "cell_type": "code",
   "execution_count": 72,
   "id": "bb093504",
   "metadata": {},
   "outputs": [],
   "source": [
    "# Create percentage crosstab between 'family_size' and 'order_frequency_flag'\n",
    "crosstab_5_percent = pd.crosstab(df_ords_prods_all['family_size'], df_ords_prods_all['order_frequency_flag'], normalize = 'index', dropna = False).round(4)*100"
   ]
  },
  {
   "cell_type": "code",
   "execution_count": 73,
   "id": "e3c5b8c1",
   "metadata": {},
   "outputs": [],
   "source": [
    "# Sort crosstab_5_percent by 'Frequent customer'\n",
    "crosstab_5_percent = crosstab_5_percent.sort_values(by = 'Frequent customer',ascending = False)"
   ]
  },
  {
   "cell_type": "code",
   "execution_count": 74,
   "id": "028f685c",
   "metadata": {},
   "outputs": [
    {
     "data": {
      "text/html": [
       "<div>\n",
       "<style scoped>\n",
       "    .dataframe tbody tr th:only-of-type {\n",
       "        vertical-align: middle;\n",
       "    }\n",
       "\n",
       "    .dataframe tbody tr th {\n",
       "        vertical-align: top;\n",
       "    }\n",
       "\n",
       "    .dataframe thead th {\n",
       "        text-align: right;\n",
       "    }\n",
       "</style>\n",
       "<table border=\"1\" class=\"dataframe\">\n",
       "  <thead>\n",
       "    <tr style=\"text-align: right;\">\n",
       "      <th>order_frequency_flag</th>\n",
       "      <th>Frequent customer</th>\n",
       "      <th>Non-frequent customer</th>\n",
       "      <th>Regular customer</th>\n",
       "    </tr>\n",
       "    <tr>\n",
       "      <th>family_size</th>\n",
       "      <th></th>\n",
       "      <th></th>\n",
       "      <th></th>\n",
       "    </tr>\n",
       "  </thead>\n",
       "  <tbody>\n",
       "    <tr>\n",
       "      <th>Medium family</th>\n",
       "      <td>71.84</td>\n",
       "      <td>7.07</td>\n",
       "      <td>21.09</td>\n",
       "    </tr>\n",
       "    <tr>\n",
       "      <th>Small family</th>\n",
       "      <td>71.84</td>\n",
       "      <td>7.14</td>\n",
       "      <td>21.02</td>\n",
       "    </tr>\n",
       "    <tr>\n",
       "      <th>Single adult</th>\n",
       "      <td>71.63</td>\n",
       "      <td>6.98</td>\n",
       "      <td>21.39</td>\n",
       "    </tr>\n",
       "    <tr>\n",
       "      <th>Large family</th>\n",
       "      <td>71.58</td>\n",
       "      <td>7.07</td>\n",
       "      <td>21.35</td>\n",
       "    </tr>\n",
       "  </tbody>\n",
       "</table>\n",
       "</div>"
      ],
      "text/plain": [
       "order_frequency_flag  Frequent customer  Non-frequent customer  \\\n",
       "family_size                                                      \n",
       "Medium family                     71.84                   7.07   \n",
       "Small family                      71.84                   7.14   \n",
       "Single adult                      71.63                   6.98   \n",
       "Large family                      71.58                   7.07   \n",
       "\n",
       "order_frequency_flag  Regular customer  \n",
       "family_size                             \n",
       "Medium family                    21.09  \n",
       "Small family                     21.02  \n",
       "Single adult                     21.39  \n",
       "Large family                     21.35  "
      ]
     },
     "execution_count": 74,
     "metadata": {},
     "output_type": "execute_result"
    }
   ],
   "source": [
    "# Print sorted crosstab_5_percent \n",
    "crosstab_5_percent"
   ]
  },
  {
   "cell_type": "markdown",
   "id": "4e38c79a",
   "metadata": {},
   "source": [
    "8. Comparing spending by age category"
   ]
  },
  {
   "cell_type": "code",
   "execution_count": 75,
   "id": "2646b5dd",
   "metadata": {},
   "outputs": [],
   "source": [
    "# Create crosstab between 'age_range' and 'spending_flag' columns\n",
    "crosstab_6 = pd.crosstab(df_ords_prods_all['age_range'], df_ords_prods_all['spending_flag'], dropna = False)"
   ]
  },
  {
   "cell_type": "code",
   "execution_count": 76,
   "id": "ad98d933",
   "metadata": {},
   "outputs": [],
   "source": [
    "# Sort crosstab_6 by 'High spender'\n",
    "crosstab_6 = crosstab_6.sort_values(by = 'High spender',ascending = False)"
   ]
  },
  {
   "cell_type": "code",
   "execution_count": 77,
   "id": "ad88461a",
   "metadata": {},
   "outputs": [
    {
     "data": {
      "text/html": [
       "<div>\n",
       "<style scoped>\n",
       "    .dataframe tbody tr th:only-of-type {\n",
       "        vertical-align: middle;\n",
       "    }\n",
       "\n",
       "    .dataframe tbody tr th {\n",
       "        vertical-align: top;\n",
       "    }\n",
       "\n",
       "    .dataframe thead th {\n",
       "        text-align: right;\n",
       "    }\n",
       "</style>\n",
       "<table border=\"1\" class=\"dataframe\">\n",
       "  <thead>\n",
       "    <tr style=\"text-align: right;\">\n",
       "      <th>spending_flag</th>\n",
       "      <th>High spender</th>\n",
       "      <th>Low spender</th>\n",
       "    </tr>\n",
       "    <tr>\n",
       "      <th>age_range</th>\n",
       "      <th></th>\n",
       "      <th></th>\n",
       "    </tr>\n",
       "  </thead>\n",
       "  <tbody>\n",
       "    <tr>\n",
       "      <th>Early middle-age adult</th>\n",
       "      <td>159693</td>\n",
       "      <td>7146301</td>\n",
       "    </tr>\n",
       "    <tr>\n",
       "      <th>Older adult</th>\n",
       "      <td>156886</td>\n",
       "      <td>8038658</td>\n",
       "    </tr>\n",
       "    <tr>\n",
       "      <th>Young adult</th>\n",
       "      <td>149511</td>\n",
       "      <td>8092784</td>\n",
       "    </tr>\n",
       "    <tr>\n",
       "      <th>Late middle-age adult</th>\n",
       "      <td>137335</td>\n",
       "      <td>7083396</td>\n",
       "    </tr>\n",
       "  </tbody>\n",
       "</table>\n",
       "</div>"
      ],
      "text/plain": [
       "spending_flag           High spender  Low spender\n",
       "age_range                                        \n",
       "Early middle-age adult        159693      7146301\n",
       "Older adult                   156886      8038658\n",
       "Young adult                   149511      8092784\n",
       "Late middle-age adult         137335      7083396"
      ]
     },
     "execution_count": 77,
     "metadata": {},
     "output_type": "execute_result"
    }
   ],
   "source": [
    "# Print sorted crosstab_6\n",
    "crosstab_6"
   ]
  },
  {
   "cell_type": "code",
   "execution_count": 78,
   "id": "a8abaefa",
   "metadata": {},
   "outputs": [],
   "source": [
    "# Sort crosstab_6 by 'High spender'\n",
    "crosstab_6 = crosstab_6.sort_values(by = 'High spender',ascending = True)"
   ]
  },
  {
   "cell_type": "code",
   "execution_count": 81,
   "id": "b0698173",
   "metadata": {},
   "outputs": [
    {
     "data": {
      "text/plain": [
       "<matplotlib.legend.Legend at 0x1c3c60ceb50>"
      ]
     },
     "execution_count": 81,
     "metadata": {},
     "output_type": "execute_result"
    },
    {
     "data": {
      "image/png": "[encoded data removed]",
      "text/plain": [
       "<Figure size 640x480 with 1 Axes>"
      ]
     },
     "metadata": {},
     "output_type": "display_data"
    }
   ],
   "source": [
    "# Create bar chart of crosstab_6\n",
    "bar_10 = crosstab_6.plot(kind = 'barh', color = ['steelblue', 'cadetblue'])\n",
    "plt.xlabel('Average Spending')\n",
    "plt.ylabel('')\n",
    "plt.title('Average Spending by Age Category')\n",
    "plt.legend(bbox_to_anchor=(1.05, 1.0), loc = 'upper left', ncol = 1)"
   ]
  },
  {
   "cell_type": "code",
   "execution_count": 82,
   "id": "903c8319",
   "metadata": {},
   "outputs": [],
   "source": [
    "# Save 'bar_10' object to file\n",
    "bar_10.figure.savefig(os.path.join(path, '04 Analysis','Visualizations', 'barh_age_spending.png'))"
   ]
  },
  {
   "cell_type": "code",
   "execution_count": 83,
   "id": "99012486",
   "metadata": {},
   "outputs": [],
   "source": [
    "# Create percentage crosstab between 'age_range' and 'spending_flag'\n",
    "crosstab_6_percent = pd.crosstab(df_ords_prods_all['age_range'], df_ords_prods_all['spending_flag'], normalize = 'index', dropna = False).round(4)*100"
   ]
  },
  {
   "cell_type": "code",
   "execution_count": 84,
   "id": "1107cc91",
   "metadata": {},
   "outputs": [],
   "source": [
    "# Sort crosstab_6_percent by 'High Spender'\n",
    "crosstab_6_percent = crosstab_6_percent.sort_values(by = 'High spender',ascending = False)"
   ]
  },
  {
   "cell_type": "code",
   "execution_count": 85,
   "id": "b8334d21",
   "metadata": {},
   "outputs": [
    {
     "data": {
      "text/html": [
       "<div>\n",
       "<style scoped>\n",
       "    .dataframe tbody tr th:only-of-type {\n",
       "        vertical-align: middle;\n",
       "    }\n",
       "\n",
       "    .dataframe tbody tr th {\n",
       "        vertical-align: top;\n",
       "    }\n",
       "\n",
       "    .dataframe thead th {\n",
       "        text-align: right;\n",
       "    }\n",
       "</style>\n",
       "<table border=\"1\" class=\"dataframe\">\n",
       "  <thead>\n",
       "    <tr style=\"text-align: right;\">\n",
       "      <th>spending_flag</th>\n",
       "      <th>High spender</th>\n",
       "      <th>Low spender</th>\n",
       "    </tr>\n",
       "    <tr>\n",
       "      <th>age_range</th>\n",
       "      <th></th>\n",
       "      <th></th>\n",
       "    </tr>\n",
       "  </thead>\n",
       "  <tbody>\n",
       "    <tr>\n",
       "      <th>Early middle-age adult</th>\n",
       "      <td>2.19</td>\n",
       "      <td>97.81</td>\n",
       "    </tr>\n",
       "    <tr>\n",
       "      <th>Older adult</th>\n",
       "      <td>1.91</td>\n",
       "      <td>98.09</td>\n",
       "    </tr>\n",
       "    <tr>\n",
       "      <th>Late middle-age adult</th>\n",
       "      <td>1.90</td>\n",
       "      <td>98.10</td>\n",
       "    </tr>\n",
       "    <tr>\n",
       "      <th>Young adult</th>\n",
       "      <td>1.81</td>\n",
       "      <td>98.19</td>\n",
       "    </tr>\n",
       "  </tbody>\n",
       "</table>\n",
       "</div>"
      ],
      "text/plain": [
       "spending_flag           High spender  Low spender\n",
       "age_range                                        \n",
       "Early middle-age adult          2.19        97.81\n",
       "Older adult                     1.91        98.09\n",
       "Late middle-age adult           1.90        98.10\n",
       "Young adult                     1.81        98.19"
      ]
     },
     "execution_count": 85,
     "metadata": {},
     "output_type": "execute_result"
    }
   ],
   "source": [
    "# Print sorted crosstab_6_percent \n",
    "crosstab_6_percent"
   ]
  },
  {
   "cell_type": "markdown",
   "id": "f845d962",
   "metadata": {},
   "source": [
    "9. Comparing spending by family status and family size"
   ]
  },
  {
   "cell_type": "code",
   "execution_count": 86,
   "id": "a73f96ed",
   "metadata": {},
   "outputs": [],
   "source": [
    "# Create crosstab between 'fam_status' and 'spending_flag' columns\n",
    "crosstab_7 = pd.crosstab(df_ords_prods_all['fam_status'], df_ords_prods_all['spending_flag'], dropna = False)"
   ]
  },
  {
   "cell_type": "code",
   "execution_count": 87,
   "id": "520b9f39",
   "metadata": {},
   "outputs": [],
   "source": [
    "# Sort crosstab_7 by 'High spender'\n",
    "crosstab_7 = crosstab_7.sort_values(by = 'High spender',ascending = False)"
   ]
  },
  {
   "cell_type": "code",
   "execution_count": 88,
   "id": "6b967edf",
   "metadata": {},
   "outputs": [
    {
     "data": {
      "text/html": [
       "<div>\n",
       "<style scoped>\n",
       "    .dataframe tbody tr th:only-of-type {\n",
       "        vertical-align: middle;\n",
       "    }\n",
       "\n",
       "    .dataframe tbody tr th {\n",
       "        vertical-align: top;\n",
       "    }\n",
       "\n",
       "    .dataframe thead th {\n",
       "        text-align: right;\n",
       "    }\n",
       "</style>\n",
       "<table border=\"1\" class=\"dataframe\">\n",
       "  <thead>\n",
       "    <tr style=\"text-align: right;\">\n",
       "      <th>spending_flag</th>\n",
       "      <th>High spender</th>\n",
       "      <th>Low spender</th>\n",
       "    </tr>\n",
       "    <tr>\n",
       "      <th>fam_status</th>\n",
       "      <th></th>\n",
       "      <th></th>\n",
       "    </tr>\n",
       "  </thead>\n",
       "  <tbody>\n",
       "    <tr>\n",
       "      <th>married</th>\n",
       "      <td>429457</td>\n",
       "      <td>21314254</td>\n",
       "    </tr>\n",
       "    <tr>\n",
       "      <th>single</th>\n",
       "      <td>95721</td>\n",
       "      <td>4998689</td>\n",
       "    </tr>\n",
       "    <tr>\n",
       "      <th>divorced/widowed</th>\n",
       "      <td>50321</td>\n",
       "      <td>2594950</td>\n",
       "    </tr>\n",
       "    <tr>\n",
       "      <th>living with parents and siblings</th>\n",
       "      <td>27926</td>\n",
       "      <td>1453246</td>\n",
       "    </tr>\n",
       "  </tbody>\n",
       "</table>\n",
       "</div>"
      ],
      "text/plain": [
       "spending_flag                     High spender  Low spender\n",
       "fam_status                                                 \n",
       "married                                 429457     21314254\n",
       "single                                   95721      4998689\n",
       "divorced/widowed                         50321      2594950\n",
       "living with parents and siblings         27926      1453246"
      ]
     },
     "execution_count": 88,
     "metadata": {},
     "output_type": "execute_result"
    }
   ],
   "source": [
    "# Print sorted crosstab_7\n",
    "crosstab_7"
   ]
  },
  {
   "cell_type": "code",
   "execution_count": 89,
   "id": "c8d924ac",
   "metadata": {},
   "outputs": [],
   "source": [
    "# Sort crosstab_7 by 'High spender'\n",
    "crosstab_7 = crosstab_7.sort_values(by = 'High spender',ascending = True)"
   ]
  },
  {
   "cell_type": "code",
   "execution_count": 90,
   "id": "4f63a93c",
   "metadata": {},
   "outputs": [
    {
     "data": {
      "text/plain": [
       "<matplotlib.legend.Legend at 0x1c3c79b4730>"
      ]
     },
     "execution_count": 90,
     "metadata": {},
     "output_type": "execute_result"
    },
    {
     "data": {
      "image/png": "[encoded data removed]",
      "text/plain": [
       "<Figure size 640x480 with 1 Axes>"
      ]
     },
     "metadata": {},
     "output_type": "display_data"
    }
   ],
   "source": [
    "# Create bar chart of crosstab_7\n",
    "bar_11 = crosstab_7.plot(kind = 'barh', logx = True, color = ['steelblue', 'cadetblue'])\n",
    "plt.xlabel('Average Spending (log scale)')\n",
    "plt.ylabel('')\n",
    "plt.title('Average Spending by Family Status')\n",
    "plt.legend(bbox_to_anchor=(1.05, 1.0), loc = 'upper left', ncol = 1)"
   ]
  },
  {
   "cell_type": "code",
   "execution_count": 91,
   "id": "00c6b0e9",
   "metadata": {},
   "outputs": [],
   "source": [
    "# Save 'bar_11' object to file\n",
    "bar_11.figure.savefig(os.path.join(path, '04 Analysis','Visualizations', 'barh_fam_status_spending.png'))"
   ]
  },
  {
   "cell_type": "code",
   "execution_count": 92,
   "id": "d03489cc",
   "metadata": {},
   "outputs": [],
   "source": [
    "# Create percentage crosstab between 'fam_status' and 'spending_flag'\n",
    "crosstab_7_percent = pd.crosstab(df_ords_prods_all['fam_status'], df_ords_prods_all['spending_flag'], normalize = 'index', dropna = False).round(4)*100"
   ]
  },
  {
   "cell_type": "code",
   "execution_count": 93,
   "id": "27648599",
   "metadata": {},
   "outputs": [],
   "source": [
    "# Sort crosstab_7_percent by 'High Spender'\n",
    "crosstab_7_percent = crosstab_7_percent.sort_values(by = 'High spender',ascending = False)"
   ]
  },
  {
   "cell_type": "code",
   "execution_count": 94,
   "id": "dfc7d314",
   "metadata": {},
   "outputs": [
    {
     "data": {
      "text/html": [
       "<div>\n",
       "<style scoped>\n",
       "    .dataframe tbody tr th:only-of-type {\n",
       "        vertical-align: middle;\n",
       "    }\n",
       "\n",
       "    .dataframe tbody tr th {\n",
       "        vertical-align: top;\n",
       "    }\n",
       "\n",
       "    .dataframe thead th {\n",
       "        text-align: right;\n",
       "    }\n",
       "</style>\n",
       "<table border=\"1\" class=\"dataframe\">\n",
       "  <thead>\n",
       "    <tr style=\"text-align: right;\">\n",
       "      <th>spending_flag</th>\n",
       "      <th>High spender</th>\n",
       "      <th>Low spender</th>\n",
       "    </tr>\n",
       "    <tr>\n",
       "      <th>fam_status</th>\n",
       "      <th></th>\n",
       "      <th></th>\n",
       "    </tr>\n",
       "  </thead>\n",
       "  <tbody>\n",
       "    <tr>\n",
       "      <th>married</th>\n",
       "      <td>1.98</td>\n",
       "      <td>98.02</td>\n",
       "    </tr>\n",
       "    <tr>\n",
       "      <th>divorced/widowed</th>\n",
       "      <td>1.90</td>\n",
       "      <td>98.10</td>\n",
       "    </tr>\n",
       "    <tr>\n",
       "      <th>living with parents and siblings</th>\n",
       "      <td>1.89</td>\n",
       "      <td>98.11</td>\n",
       "    </tr>\n",
       "    <tr>\n",
       "      <th>single</th>\n",
       "      <td>1.88</td>\n",
       "      <td>98.12</td>\n",
       "    </tr>\n",
       "  </tbody>\n",
       "</table>\n",
       "</div>"
      ],
      "text/plain": [
       "spending_flag                     High spender  Low spender\n",
       "fam_status                                                 \n",
       "married                                   1.98        98.02\n",
       "divorced/widowed                          1.90        98.10\n",
       "living with parents and siblings          1.89        98.11\n",
       "single                                    1.88        98.12"
      ]
     },
     "execution_count": 94,
     "metadata": {},
     "output_type": "execute_result"
    }
   ],
   "source": [
    "# Print sorted crosstab_7_percent \n",
    "crosstab_7_percent"
   ]
  },
  {
   "cell_type": "code",
   "execution_count": 95,
   "id": "41e3200e",
   "metadata": {},
   "outputs": [],
   "source": [
    "# Create crosstab between 'family_size' and 'spending_flag' columns\n",
    "crosstab_8 = pd.crosstab(df_ords_prods_all['family_size'], df_ords_prods_all['spending_flag'], dropna = False)"
   ]
  },
  {
   "cell_type": "code",
   "execution_count": 96,
   "id": "35dc0a29",
   "metadata": {},
   "outputs": [],
   "source": [
    "# Sort crosstab_8 by 'High spender'\n",
    "crosstab_8 = crosstab_8.sort_values(by = 'High spender',ascending = False)"
   ]
  },
  {
   "cell_type": "code",
   "execution_count": 97,
   "id": "1b1871b7",
   "metadata": {},
   "outputs": [
    {
     "data": {
      "text/html": [
       "<div>\n",
       "<style scoped>\n",
       "    .dataframe tbody tr th:only-of-type {\n",
       "        vertical-align: middle;\n",
       "    }\n",
       "\n",
       "    .dataframe tbody tr th {\n",
       "        vertical-align: top;\n",
       "    }\n",
       "\n",
       "    .dataframe thead th {\n",
       "        text-align: right;\n",
       "    }\n",
       "</style>\n",
       "<table border=\"1\" class=\"dataframe\">\n",
       "  <thead>\n",
       "    <tr style=\"text-align: right;\">\n",
       "      <th>spending_flag</th>\n",
       "      <th>High spender</th>\n",
       "      <th>Low spender</th>\n",
       "    </tr>\n",
       "    <tr>\n",
       "      <th>family_size</th>\n",
       "      <th></th>\n",
       "      <th></th>\n",
       "    </tr>\n",
       "  </thead>\n",
       "  <tbody>\n",
       "    <tr>\n",
       "      <th>Medium family</th>\n",
       "      <td>161059</td>\n",
       "      <td>7572202</td>\n",
       "    </tr>\n",
       "    <tr>\n",
       "      <th>Large family</th>\n",
       "      <td>152666</td>\n",
       "      <td>7619850</td>\n",
       "    </tr>\n",
       "    <tr>\n",
       "      <th>Single adult</th>\n",
       "      <td>146042</td>\n",
       "      <td>7593639</td>\n",
       "    </tr>\n",
       "    <tr>\n",
       "      <th>Small family</th>\n",
       "      <td>143658</td>\n",
       "      <td>7575448</td>\n",
       "    </tr>\n",
       "  </tbody>\n",
       "</table>\n",
       "</div>"
      ],
      "text/plain": [
       "spending_flag  High spender  Low spender\n",
       "family_size                             \n",
       "Medium family        161059      7572202\n",
       "Large family         152666      7619850\n",
       "Single adult         146042      7593639\n",
       "Small family         143658      7575448"
      ]
     },
     "execution_count": 97,
     "metadata": {},
     "output_type": "execute_result"
    }
   ],
   "source": [
    "# Print sorted crosstab_8\n",
    "crosstab_8"
   ]
  },
  {
   "cell_type": "code",
   "execution_count": 98,
   "id": "d31ae0c2",
   "metadata": {},
   "outputs": [],
   "source": [
    "# Sort crosstab_8 by 'High spender'\n",
    "crosstab_8 = crosstab_8.sort_values(by = 'High spender',ascending = True)"
   ]
  },
  {
   "cell_type": "code",
   "execution_count": 101,
   "id": "5aa86bc1",
   "metadata": {},
   "outputs": [
    {
     "data": {
      "text/plain": [
       "<matplotlib.legend.Legend at 0x1c3c7af7280>"
      ]
     },
     "execution_count": 101,
     "metadata": {},
     "output_type": "execute_result"
    },
    {
     "data": {
      "image/png": "[encoded data removed]",
      "text/plain": [
       "<Figure size 640x480 with 1 Axes>"
      ]
     },
     "metadata": {},
     "output_type": "display_data"
    }
   ],
   "source": [
    "# Create bar chart of crosstab_8\n",
    "bar_12 = crosstab_8.plot(kind = 'barh', color = ['steelblue', 'cadetblue'])\n",
    "plt.xlabel('Average Spending (log scale)')\n",
    "plt.ylabel('')\n",
    "plt.title('Average Spending by Family Size')\n",
    "plt.legend(bbox_to_anchor=(1.05, 1.0), loc = 'upper left', ncol = 1)"
   ]
  },
  {
   "cell_type": "code",
   "execution_count": 102,
   "id": "3d289ab4",
   "metadata": {},
   "outputs": [],
   "source": [
    "# Save 'bar_12' object to file\n",
    "bar_12.figure.savefig(os.path.join(path, '04 Analysis','Visualizations', 'barh_fam_size_spending.png'))"
   ]
  },
  {
   "cell_type": "code",
   "execution_count": 103,
   "id": "568eb90a",
   "metadata": {},
   "outputs": [],
   "source": [
    "# Create percentage crosstab between 'family_size' and 'spending_flag'\n",
    "crosstab_8_percent = pd.crosstab(df_ords_prods_all['family_size'], df_ords_prods_all['spending_flag'], normalize = 'index', dropna = False).round(4)*100"
   ]
  },
  {
   "cell_type": "code",
   "execution_count": 104,
   "id": "50885aeb",
   "metadata": {},
   "outputs": [],
   "source": [
    "# Sort crosstab_8_percent by 'High Spender'\n",
    "crosstab_8_percent = crosstab_8_percent.sort_values(by = 'High spender',ascending = False)"
   ]
  },
  {
   "cell_type": "code",
   "execution_count": 105,
   "id": "fdaf61e3",
   "metadata": {},
   "outputs": [
    {
     "data": {
      "text/html": [
       "<div>\n",
       "<style scoped>\n",
       "    .dataframe tbody tr th:only-of-type {\n",
       "        vertical-align: middle;\n",
       "    }\n",
       "\n",
       "    .dataframe tbody tr th {\n",
       "        vertical-align: top;\n",
       "    }\n",
       "\n",
       "    .dataframe thead th {\n",
       "        text-align: right;\n",
       "    }\n",
       "</style>\n",
       "<table border=\"1\" class=\"dataframe\">\n",
       "  <thead>\n",
       "    <tr style=\"text-align: right;\">\n",
       "      <th>spending_flag</th>\n",
       "      <th>High spender</th>\n",
       "      <th>Low spender</th>\n",
       "    </tr>\n",
       "    <tr>\n",
       "      <th>family_size</th>\n",
       "      <th></th>\n",
       "      <th></th>\n",
       "    </tr>\n",
       "  </thead>\n",
       "  <tbody>\n",
       "    <tr>\n",
       "      <th>Medium family</th>\n",
       "      <td>2.08</td>\n",
       "      <td>97.92</td>\n",
       "    </tr>\n",
       "    <tr>\n",
       "      <th>Large family</th>\n",
       "      <td>1.96</td>\n",
       "      <td>98.04</td>\n",
       "    </tr>\n",
       "    <tr>\n",
       "      <th>Single adult</th>\n",
       "      <td>1.89</td>\n",
       "      <td>98.11</td>\n",
       "    </tr>\n",
       "    <tr>\n",
       "      <th>Small family</th>\n",
       "      <td>1.86</td>\n",
       "      <td>98.14</td>\n",
       "    </tr>\n",
       "  </tbody>\n",
       "</table>\n",
       "</div>"
      ],
      "text/plain": [
       "spending_flag  High spender  Low spender\n",
       "family_size                             \n",
       "Medium family          2.08        97.92\n",
       "Large family           1.96        98.04\n",
       "Single adult           1.89        98.11\n",
       "Small family           1.86        98.14"
      ]
     },
     "execution_count": 105,
     "metadata": {},
     "output_type": "execute_result"
    }
   ],
   "source": [
    "# Print sorted crosstab_8_percent \n",
    "crosstab_8_percent"
   ]
  },
  {
   "cell_type": "markdown",
   "id": "4c67e040",
   "metadata": {},
   "source": [
    "10. Comparing order frequency by income range with crosstabs and bar charts"
   ]
  },
  {
   "cell_type": "code",
   "execution_count": 106,
   "id": "8f626c2b",
   "metadata": {},
   "outputs": [],
   "source": [
    "# Create crosstab between 'income_range' and 'order_frequency_flag' columns\n",
    "crosstab_9 = pd.crosstab(df_ords_prods_all['income_range'], df_ords_prods_all['order_frequency_flag'], dropna = False)"
   ]
  },
  {
   "cell_type": "code",
   "execution_count": 107,
   "id": "7a0ca5c3",
   "metadata": {},
   "outputs": [],
   "source": [
    "# Sort crosstab_9 by 'Frequent customer'\n",
    "crosstab_9 = crosstab_9.sort_values(by = 'Frequent customer',ascending = False)"
   ]
  },
  {
   "cell_type": "code",
   "execution_count": 108,
   "id": "8eeafbfb",
   "metadata": {},
   "outputs": [
    {
     "data": {
      "text/html": [
       "<div>\n",
       "<style scoped>\n",
       "    .dataframe tbody tr th:only-of-type {\n",
       "        vertical-align: middle;\n",
       "    }\n",
       "\n",
       "    .dataframe tbody tr th {\n",
       "        vertical-align: top;\n",
       "    }\n",
       "\n",
       "    .dataframe thead th {\n",
       "        text-align: right;\n",
       "    }\n",
       "</style>\n",
       "<table border=\"1\" class=\"dataframe\">\n",
       "  <thead>\n",
       "    <tr style=\"text-align: right;\">\n",
       "      <th>order_frequency_flag</th>\n",
       "      <th>Frequent customer</th>\n",
       "      <th>Non-frequent customer</th>\n",
       "      <th>Regular customer</th>\n",
       "    </tr>\n",
       "    <tr>\n",
       "      <th>income_range</th>\n",
       "      <th></th>\n",
       "      <th></th>\n",
       "      <th></th>\n",
       "    </tr>\n",
       "  </thead>\n",
       "  <tbody>\n",
       "    <tr>\n",
       "      <th>Below average income</th>\n",
       "      <td>11957387</td>\n",
       "      <td>1222758</td>\n",
       "      <td>3577017</td>\n",
       "    </tr>\n",
       "    <tr>\n",
       "      <th>Above average income</th>\n",
       "      <td>10059628</td>\n",
       "      <td>953228</td>\n",
       "      <td>2940404</td>\n",
       "    </tr>\n",
       "    <tr>\n",
       "      <th>High income</th>\n",
       "      <td>116844</td>\n",
       "      <td>8269</td>\n",
       "      <td>29000</td>\n",
       "    </tr>\n",
       "    <tr>\n",
       "      <th>Very high income</th>\n",
       "      <td>75045</td>\n",
       "      <td>3162</td>\n",
       "      <td>21822</td>\n",
       "    </tr>\n",
       "  </tbody>\n",
       "</table>\n",
       "</div>"
      ],
      "text/plain": [
       "order_frequency_flag  Frequent customer  Non-frequent customer  \\\n",
       "income_range                                                     \n",
       "Below average income           11957387                1222758   \n",
       "Above average income           10059628                 953228   \n",
       "High income                      116844                   8269   \n",
       "Very high income                  75045                   3162   \n",
       "\n",
       "order_frequency_flag  Regular customer  \n",
       "income_range                            \n",
       "Below average income           3577017  \n",
       "Above average income           2940404  \n",
       "High income                      29000  \n",
       "Very high income                 21822  "
      ]
     },
     "execution_count": 108,
     "metadata": {},
     "output_type": "execute_result"
    }
   ],
   "source": [
    "# Print sorted crosstab_9\n",
    "crosstab_9"
   ]
  },
  {
   "cell_type": "code",
   "execution_count": 109,
   "id": "cd2fb355",
   "metadata": {},
   "outputs": [],
   "source": [
    "# Sort crosstab_9 by 'Frequent customer'\n",
    "crosstab_9 = crosstab_9.sort_values(by = 'Frequent customer',ascending = True)"
   ]
  },
  {
   "cell_type": "code",
   "execution_count": 115,
   "id": "023dae3d",
   "metadata": {},
   "outputs": [
    {
     "data": {
      "text/plain": [
       "<matplotlib.legend.Legend at 0x1c3c625ccd0>"
      ]
     },
     "execution_count": 115,
     "metadata": {},
     "output_type": "execute_result"
    },
    {
     "data": {
      "image/png": "[encoded data removed]",
      "text/plain": [
       "<Figure size 640x480 with 1 Axes>"
      ]
     },
     "metadata": {},
     "output_type": "display_data"
    }
   ],
   "source": [
    "# Create bar chart of crosstab_9\n",
    "bar_13 = crosstab_9.plot(kind = 'barh', logx = True, color = ['steelblue', 'cadetblue','powderblue'])\n",
    "plt.xlabel('Order Frequency (log scale)')\n",
    "plt.ylabel('')\n",
    "plt.title('Order Frequency by Income')\n",
    "plt.legend(bbox_to_anchor=(1.05, 1.0), loc = 'upper left', ncol = 1)"
   ]
  },
  {
   "cell_type": "code",
   "execution_count": 116,
   "id": "38c0db02",
   "metadata": {},
   "outputs": [],
   "source": [
    "# Save 'bar_13' object to file\n",
    "bar_13.figure.savefig(os.path.join(path, '04 Analysis','Visualizations', 'barh_income_order_frequency.png'))"
   ]
  },
  {
   "cell_type": "code",
   "execution_count": 117,
   "id": "8d57a8a8",
   "metadata": {},
   "outputs": [],
   "source": [
    "# Create percentage crosstab between 'income_range' and 'order_frequency_flag'\n",
    "crosstab_9_percent = pd.crosstab(df_ords_prods_all['income_range'], df_ords_prods_all['order_frequency_flag'], normalize = 'index', dropna = False).round(4)*100"
   ]
  },
  {
   "cell_type": "code",
   "execution_count": 118,
   "id": "ee64a1e8",
   "metadata": {},
   "outputs": [],
   "source": [
    "# Sort crosstab_9_percent by 'Frequent customer'\n",
    "crosstab_9_percent = crosstab_9_percent.sort_values(by = 'Frequent customer',ascending = False)"
   ]
  },
  {
   "cell_type": "code",
   "execution_count": 119,
   "id": "4f8fa1a6",
   "metadata": {},
   "outputs": [
    {
     "data": {
      "text/html": [
       "<div>\n",
       "<style scoped>\n",
       "    .dataframe tbody tr th:only-of-type {\n",
       "        vertical-align: middle;\n",
       "    }\n",
       "\n",
       "    .dataframe tbody tr th {\n",
       "        vertical-align: top;\n",
       "    }\n",
       "\n",
       "    .dataframe thead th {\n",
       "        text-align: right;\n",
       "    }\n",
       "</style>\n",
       "<table border=\"1\" class=\"dataframe\">\n",
       "  <thead>\n",
       "    <tr style=\"text-align: right;\">\n",
       "      <th>order_frequency_flag</th>\n",
       "      <th>Frequent customer</th>\n",
       "      <th>Non-frequent customer</th>\n",
       "      <th>Regular customer</th>\n",
       "    </tr>\n",
       "    <tr>\n",
       "      <th>income_range</th>\n",
       "      <th></th>\n",
       "      <th></th>\n",
       "      <th></th>\n",
       "    </tr>\n",
       "  </thead>\n",
       "  <tbody>\n",
       "    <tr>\n",
       "      <th>High income</th>\n",
       "      <td>75.82</td>\n",
       "      <td>5.37</td>\n",
       "      <td>18.82</td>\n",
       "    </tr>\n",
       "    <tr>\n",
       "      <th>Very high income</th>\n",
       "      <td>75.02</td>\n",
       "      <td>3.16</td>\n",
       "      <td>21.82</td>\n",
       "    </tr>\n",
       "    <tr>\n",
       "      <th>Above average income</th>\n",
       "      <td>72.10</td>\n",
       "      <td>6.83</td>\n",
       "      <td>21.07</td>\n",
       "    </tr>\n",
       "    <tr>\n",
       "      <th>Below average income</th>\n",
       "      <td>71.36</td>\n",
       "      <td>7.30</td>\n",
       "      <td>21.35</td>\n",
       "    </tr>\n",
       "  </tbody>\n",
       "</table>\n",
       "</div>"
      ],
      "text/plain": [
       "order_frequency_flag  Frequent customer  Non-frequent customer  \\\n",
       "income_range                                                     \n",
       "High income                       75.82                   5.37   \n",
       "Very high income                  75.02                   3.16   \n",
       "Above average income              72.10                   6.83   \n",
       "Below average income              71.36                   7.30   \n",
       "\n",
       "order_frequency_flag  Regular customer  \n",
       "income_range                            \n",
       "High income                      18.82  \n",
       "Very high income                 21.82  \n",
       "Above average income             21.07  \n",
       "Below average income             21.35  "
      ]
     },
     "execution_count": 119,
     "metadata": {},
     "output_type": "execute_result"
    }
   ],
   "source": [
    "# Print sorted crosstab_9_percent \n",
    "crosstab_9_percent"
   ]
  },
  {
   "cell_type": "markdown",
   "id": "a48d9afb",
   "metadata": {},
   "source": [
    "11. Comparing average spending by income range with crosstabs and bar charts"
   ]
  },
  {
   "cell_type": "code",
   "execution_count": 120,
   "id": "e64efb92",
   "metadata": {},
   "outputs": [],
   "source": [
    "# Create crosstab between 'income_range' and 'spending_flag' columns\n",
    "crosstab_10 = pd.crosstab(df_ords_prods_all['income_range'], df_ords_prods_all['spending_flag'], dropna = False)"
   ]
  },
  {
   "cell_type": "code",
   "execution_count": 121,
   "id": "e3a824e7",
   "metadata": {},
   "outputs": [],
   "source": [
    "# Sort crosstab_10 by 'High spender'\n",
    "crosstab_10 = crosstab_10.sort_values(by = 'High spender',ascending = False)"
   ]
  },
  {
   "cell_type": "code",
   "execution_count": 122,
   "id": "7bcf8200",
   "metadata": {},
   "outputs": [
    {
     "data": {
      "text/html": [
       "<div>\n",
       "<style scoped>\n",
       "    .dataframe tbody tr th:only-of-type {\n",
       "        vertical-align: middle;\n",
       "    }\n",
       "\n",
       "    .dataframe tbody tr th {\n",
       "        vertical-align: top;\n",
       "    }\n",
       "\n",
       "    .dataframe thead th {\n",
       "        text-align: right;\n",
       "    }\n",
       "</style>\n",
       "<table border=\"1\" class=\"dataframe\">\n",
       "  <thead>\n",
       "    <tr style=\"text-align: right;\">\n",
       "      <th>spending_flag</th>\n",
       "      <th>High spender</th>\n",
       "      <th>Low spender</th>\n",
       "    </tr>\n",
       "    <tr>\n",
       "      <th>income_range</th>\n",
       "      <th></th>\n",
       "      <th></th>\n",
       "    </tr>\n",
       "  </thead>\n",
       "  <tbody>\n",
       "    <tr>\n",
       "      <th>Above average income</th>\n",
       "      <td>269713</td>\n",
       "      <td>13683547</td>\n",
       "    </tr>\n",
       "    <tr>\n",
       "      <th>High income</th>\n",
       "      <td>154113</td>\n",
       "      <td>0</td>\n",
       "    </tr>\n",
       "    <tr>\n",
       "      <th>Very high income</th>\n",
       "      <td>100029</td>\n",
       "      <td>0</td>\n",
       "    </tr>\n",
       "    <tr>\n",
       "      <th>Below average income</th>\n",
       "      <td>79570</td>\n",
       "      <td>16677592</td>\n",
       "    </tr>\n",
       "  </tbody>\n",
       "</table>\n",
       "</div>"
      ],
      "text/plain": [
       "spending_flag         High spender  Low spender\n",
       "income_range                                   \n",
       "Above average income        269713     13683547\n",
       "High income                 154113            0\n",
       "Very high income            100029            0\n",
       "Below average income         79570     16677592"
      ]
     },
     "execution_count": 122,
     "metadata": {},
     "output_type": "execute_result"
    }
   ],
   "source": [
    "# Print sorted crosstab_10\n",
    "crosstab_10"
   ]
  },
  {
   "cell_type": "code",
   "execution_count": 123,
   "id": "0d702b32",
   "metadata": {},
   "outputs": [],
   "source": [
    "# Sort crosstab_10 by 'High spender'\n",
    "crosstab_10 = crosstab_10.sort_values(by = 'High spender',ascending = True)"
   ]
  },
  {
   "cell_type": "code",
   "execution_count": 124,
   "id": "458ae1b7",
   "metadata": {},
   "outputs": [
    {
     "data": {
      "text/plain": [
       "<matplotlib.legend.Legend at 0x1c3c7fc4ca0>"
      ]
     },
     "execution_count": 124,
     "metadata": {},
     "output_type": "execute_result"
    },
    {
     "data": {
      "image/png": "[encoded data removed]",
      "text/plain": [
       "<Figure size 640x480 with 1 Axes>"
      ]
     },
     "metadata": {},
     "output_type": "display_data"
    }
   ],
   "source": [
    "# Create bar chart of crosstab_10\n",
    "bar_14 = crosstab_10.plot(kind = 'barh', logx = True, color = ['steelblue', 'powderblue'])\n",
    "plt.xlabel('Average Spending (log scale)')\n",
    "plt.ylabel('')\n",
    "plt.title('Average Spending by Income')\n",
    "plt.legend(bbox_to_anchor=(1.05, 1.0), loc = 'upper left', ncol = 1)"
   ]
  },
  {
   "cell_type": "code",
   "execution_count": 113,
   "id": "f4658d66",
   "metadata": {},
   "outputs": [],
   "source": [
    "# Save 'bar_14' object to file\n",
    "bar_14.figure.savefig(os.path.join(path, '04 Analysis','Visualizations', 'barh_income_spending.png'))"
   ]
  },
  {
   "cell_type": "code",
   "execution_count": 114,
   "id": "602bbccb",
   "metadata": {},
   "outputs": [],
   "source": [
    "# Create percentage crosstab between 'income_range' and 'spending_flag'\n",
    "crosstab_10_percent = pd.crosstab(df_ords_prods_all['income_range'], df_ords_prods_all['spending_flag'], normalize = 'index', dropna = False).round(4)*100"
   ]
  },
  {
   "cell_type": "code",
   "execution_count": 115,
   "id": "c8708509",
   "metadata": {},
   "outputs": [],
   "source": [
    "# Sort crosstab_10_percent by 'High Spender'\n",
    "crosstab_10_percent = crosstab_10_percent.sort_values(by = 'High spender',ascending = False)"
   ]
  },
  {
   "cell_type": "code",
   "execution_count": 116,
   "id": "a3eb3330",
   "metadata": {},
   "outputs": [
    {
     "data": {
      "text/html": [
       "<div>\n",
       "<style scoped>\n",
       "    .dataframe tbody tr th:only-of-type {\n",
       "        vertical-align: middle;\n",
       "    }\n",
       "\n",
       "    .dataframe tbody tr th {\n",
       "        vertical-align: top;\n",
       "    }\n",
       "\n",
       "    .dataframe thead th {\n",
       "        text-align: right;\n",
       "    }\n",
       "</style>\n",
       "<table border=\"1\" class=\"dataframe\">\n",
       "  <thead>\n",
       "    <tr style=\"text-align: right;\">\n",
       "      <th>spending_flag</th>\n",
       "      <th>High spender</th>\n",
       "      <th>Low spender</th>\n",
       "    </tr>\n",
       "    <tr>\n",
       "      <th>income_range</th>\n",
       "      <th></th>\n",
       "      <th></th>\n",
       "    </tr>\n",
       "  </thead>\n",
       "  <tbody>\n",
       "    <tr>\n",
       "      <th>High income</th>\n",
       "      <td>100.00</td>\n",
       "      <td>0.00</td>\n",
       "    </tr>\n",
       "    <tr>\n",
       "      <th>Very high income</th>\n",
       "      <td>100.00</td>\n",
       "      <td>0.00</td>\n",
       "    </tr>\n",
       "    <tr>\n",
       "      <th>Above average income</th>\n",
       "      <td>1.93</td>\n",
       "      <td>98.07</td>\n",
       "    </tr>\n",
       "    <tr>\n",
       "      <th>Below average income</th>\n",
       "      <td>0.47</td>\n",
       "      <td>99.53</td>\n",
       "    </tr>\n",
       "  </tbody>\n",
       "</table>\n",
       "</div>"
      ],
      "text/plain": [
       "spending_flag         High spender  Low spender\n",
       "income_range                                   \n",
       "High income                 100.00         0.00\n",
       "Very high income            100.00         0.00\n",
       "Above average income          1.93        98.07\n",
       "Below average income          0.47        99.53"
      ]
     },
     "execution_count": 116,
     "metadata": {},
     "output_type": "execute_result"
    }
   ],
   "source": [
    "# Print sorted crosstab_8_percent \n",
    "crosstab_10_percent"
   ]
  },
  {
   "cell_type": "code",
   "execution_count": null,
   "id": "01414c65",
   "metadata": {},
   "outputs": [],
   "source": []
  }
 ],
 "metadata": {
  "kernelspec": {
   "display_name": "Python 3 (ipykernel)",
   "language": "python",
   "name": "python3"
  },
  "language_info": {
   "codemirror_mode": {
    "name": "ipython",
    "version": 3
   },
   "file_extension": ".py",
   "mimetype": "text/x-python",
   "name": "python",
   "nbconvert_exporter": "python",
   "pygments_lexer": "ipython3",
   "version": "3.9.13"
  }
 },
 "nbformat": 4,
 "nbformat_minor": 5
}
