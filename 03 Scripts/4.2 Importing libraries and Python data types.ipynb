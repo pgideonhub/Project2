{
 "cells": [
  {
   "cell_type": "markdown",
   "id": "87fe09c5",
   "metadata": {},
   "source": [
    "# 01. Importing libraries"
   ]
  },
  {
   "cell_type": "code",
   "execution_count": 6,
   "id": "5bea14da",
   "metadata": {},
   "outputs": [],
   "source": [
    "# Import libraries"
   ]
  },
  {
   "cell_type": "code",
   "execution_count": 7,
   "id": "8a2337ea",
   "metadata": {},
   "outputs": [],
   "source": [
    "import pandas as pd"
   ]
  },
  {
   "cell_type": "code",
   "execution_count": 8,
   "id": "44ca493f",
   "metadata": {},
   "outputs": [],
   "source": [
    "import numpy as np"
   ]
  },
  {
   "cell_type": "code",
   "execution_count": 9,
   "id": "4b2c8607",
   "metadata": {},
   "outputs": [],
   "source": [
    "import os"
   ]
  },
  {
   "cell_type": "markdown",
   "id": "052d114b",
   "metadata": {},
   "source": [
    "# 02. Data types"
   ]
  },
  {
   "cell_type": "code",
   "execution_count": 2,
   "id": "67646240",
   "metadata": {},
   "outputs": [],
   "source": [
    "x = 2"
   ]
  },
  {
   "cell_type": "code",
   "execution_count": 3,
   "id": "5ce5ee09",
   "metadata": {},
   "outputs": [
    {
     "data": {
      "text/plain": [
       "2"
      ]
     },
     "execution_count": 3,
     "metadata": {},
     "output_type": "execute_result"
    }
   ],
   "source": [
    "x"
   ]
  },
  {
   "cell_type": "code",
   "execution_count": 4,
   "id": "5e5d06ed",
   "metadata": {},
   "outputs": [
    {
     "name": "stdout",
     "output_type": "stream",
     "text": [
      "2\n"
     ]
    }
   ],
   "source": [
    "print(x)"
   ]
  },
  {
   "cell_type": "code",
   "execution_count": 5,
   "id": "6da1810a",
   "metadata": {},
   "outputs": [
    {
     "data": {
      "text/plain": [
       "2"
      ]
     },
     "execution_count": 5,
     "metadata": {},
     "output_type": "execute_result"
    }
   ],
   "source": [
    "x"
   ]
  },
  {
   "cell_type": "code",
   "execution_count": 6,
   "id": "4b4ea3d1",
   "metadata": {},
   "outputs": [
    {
     "data": {
      "text/plain": [
       "int"
      ]
     },
     "execution_count": 6,
     "metadata": {},
     "output_type": "execute_result"
    }
   ],
   "source": [
    "type(x)"
   ]
  },
  {
   "cell_type": "code",
   "execution_count": 9,
   "id": "a5d0fcd9",
   "metadata": {},
   "outputs": [],
   "source": [
    "x=2"
   ]
  },
  {
   "cell_type": "code",
   "execution_count": 8,
   "id": "5663b88b",
   "metadata": {},
   "outputs": [
    {
     "ename": "NameError",
     "evalue": "name 'y' is not defined",
     "output_type": "error",
     "traceback": [
      "\u001b[1;31m---------------------------------------------------------------------------\u001b[0m",
      "\u001b[1;31mNameError\u001b[0m                                 Traceback (most recent call last)",
      "\u001b[1;32m~\\AppData\\Local\\Temp\\ipykernel_25776\\4269256011.py\u001b[0m in \u001b[0;36m<module>\u001b[1;34m\u001b[0m\n\u001b[1;32m----> 1\u001b[1;33m \u001b[0mtype\u001b[0m\u001b[1;33m(\u001b[0m\u001b[0my\u001b[0m\u001b[1;33m)\u001b[0m\u001b[1;33m\u001b[0m\u001b[1;33m\u001b[0m\u001b[0m\n\u001b[0m",
      "\u001b[1;31mNameError\u001b[0m: name 'y' is not defined"
     ]
    }
   ],
   "source": [
    "type(y)"
   ]
  },
  {
   "cell_type": "code",
   "execution_count": 10,
   "id": "7e0d7bcf",
   "metadata": {},
   "outputs": [],
   "source": [
    "y=5.678"
   ]
  },
  {
   "cell_type": "code",
   "execution_count": 11,
   "id": "754828d1",
   "metadata": {},
   "outputs": [
    {
     "data": {
      "text/plain": [
       "float"
      ]
     },
     "execution_count": 11,
     "metadata": {},
     "output_type": "execute_result"
    }
   ],
   "source": [
    "type(y)"
   ]
  },
  {
   "cell_type": "code",
   "execution_count": 12,
   "id": "eb66c8f0",
   "metadata": {},
   "outputs": [],
   "source": [
    "z='Brazil'"
   ]
  },
  {
   "cell_type": "code",
   "execution_count": 13,
   "id": "2eb6ab9f",
   "metadata": {},
   "outputs": [
    {
     "data": {
      "text/plain": [
       "str"
      ]
     },
     "execution_count": 13,
     "metadata": {},
     "output_type": "execute_result"
    }
   ],
   "source": [
    "type(z)"
   ]
  },
  {
   "cell_type": "code",
   "execution_count": 14,
   "id": "f04fc42a",
   "metadata": {},
   "outputs": [
    {
     "data": {
      "text/plain": [
       "str"
      ]
     },
     "execution_count": 14,
     "metadata": {},
     "output_type": "execute_result"
    }
   ],
   "source": [
    "type('Mania')"
   ]
  },
  {
   "cell_type": "code",
   "execution_count": 15,
   "id": "12dcb455",
   "metadata": {},
   "outputs": [
    {
     "data": {
      "text/plain": [
       "bool"
      ]
     },
     "execution_count": 15,
     "metadata": {},
     "output_type": "execute_result"
    }
   ],
   "source": [
    "type(True)"
   ]
  },
  {
   "cell_type": "code",
   "execution_count": 16,
   "id": "988f5ce0",
   "metadata": {},
   "outputs": [
    {
     "data": {
      "text/plain": [
       "bool"
      ]
     },
     "execution_count": 16,
     "metadata": {},
     "output_type": "execute_result"
    }
   ],
   "source": [
    "type(False)"
   ]
  },
  {
   "cell_type": "code",
   "execution_count": 17,
   "id": "96e720d8",
   "metadata": {},
   "outputs": [
    {
     "data": {
      "text/plain": [
       "6"
      ]
     },
     "execution_count": 17,
     "metadata": {},
     "output_type": "execute_result"
    }
   ],
   "source": [
    "x+4"
   ]
  },
  {
   "cell_type": "code",
   "execution_count": 18,
   "id": "5f491867",
   "metadata": {},
   "outputs": [
    {
     "data": {
      "text/plain": [
       "7.678"
      ]
     },
     "execution_count": 18,
     "metadata": {},
     "output_type": "execute_result"
    }
   ],
   "source": [
    "x+y"
   ]
  },
  {
   "cell_type": "code",
   "execution_count": 19,
   "id": "7ebbc4c9",
   "metadata": {},
   "outputs": [
    {
     "ename": "NameError",
     "evalue": "name 'potato' is not defined",
     "output_type": "error",
     "traceback": [
      "\u001b[1;31m---------------------------------------------------------------------------\u001b[0m",
      "\u001b[1;31mNameError\u001b[0m                                 Traceback (most recent call last)",
      "\u001b[1;32m~\\AppData\\Local\\Temp\\ipykernel_25776\\3085554323.py\u001b[0m in \u001b[0;36m<module>\u001b[1;34m\u001b[0m\n\u001b[1;32m----> 1\u001b[1;33m \u001b[0mn\u001b[0m\u001b[1;33m=\u001b[0m\u001b[0mpotato\u001b[0m\u001b[1;33m\u001b[0m\u001b[1;33m\u001b[0m\u001b[0m\n\u001b[0m",
      "\u001b[1;31mNameError\u001b[0m: name 'potato' is not defined"
     ]
    }
   ],
   "source": [
    "n=potato"
   ]
  },
  {
   "cell_type": "code",
   "execution_count": 20,
   "id": "f8f98c87",
   "metadata": {},
   "outputs": [],
   "source": [
    "n='potato'"
   ]
  },
  {
   "cell_type": "code",
   "execution_count": 21,
   "id": "b2ac0211",
   "metadata": {},
   "outputs": [
    {
     "data": {
      "text/plain": [
       "'potatopotatopotatopotatopotatopotatopotatopotatopotatopotatopotatopotato'"
      ]
     },
     "execution_count": 21,
     "metadata": {},
     "output_type": "execute_result"
    }
   ],
   "source": [
    "n*12"
   ]
  },
  {
   "cell_type": "code",
   "execution_count": 22,
   "id": "c6de1994",
   "metadata": {},
   "outputs": [
    {
     "ename": "SyntaxError",
     "evalue": "invalid syntax (3553283505.py, line 1)",
     "output_type": "error",
     "traceback": [
      "\u001b[1;36m  File \u001b[1;32m\"C:\\Users\\polly\\AppData\\Local\\Temp\\ipykernel_25776\\3553283505.py\"\u001b[1;36m, line \u001b[1;32m1\u001b[0m\n\u001b[1;33m    'potato'x12\u001b[0m\n\u001b[1;37m            ^\u001b[0m\n\u001b[1;31mSyntaxError\u001b[0m\u001b[1;31m:\u001b[0m invalid syntax\n"
     ]
    }
   ],
   "source": [
    "'potato'x12"
   ]
  },
  {
   "cell_type": "code",
   "execution_count": 23,
   "id": "239d5710",
   "metadata": {},
   "outputs": [
    {
     "data": {
      "text/plain": [
       "'potatopotatopotatopotatopotatopotatopotatopotatopotatopotatopotatopotato'"
      ]
     },
     "execution_count": 23,
     "metadata": {},
     "output_type": "execute_result"
    }
   ],
   "source": [
    "'potato'*12"
   ]
  },
  {
   "cell_type": "code",
   "execution_count": 24,
   "id": "3e0d60f9",
   "metadata": {},
   "outputs": [],
   "source": [
    "x=x+4"
   ]
  },
  {
   "cell_type": "code",
   "execution_count": 25,
   "id": "31428679",
   "metadata": {},
   "outputs": [
    {
     "data": {
      "text/plain": [
       "False"
      ]
     },
     "execution_count": 25,
     "metadata": {},
     "output_type": "execute_result"
    }
   ],
   "source": [
    "x==y"
   ]
  },
  {
   "cell_type": "code",
   "execution_count": 26,
   "id": "e70a0860",
   "metadata": {},
   "outputs": [
    {
     "data": {
      "text/plain": [
       "bool"
      ]
     },
     "execution_count": 26,
     "metadata": {},
     "output_type": "execute_result"
    }
   ],
   "source": [
    "type(x==y)"
   ]
  },
  {
   "cell_type": "code",
   "execution_count": 5,
   "id": "fda3377f",
   "metadata": {},
   "outputs": [],
   "source": [
    "# Task 4.2"
   ]
  },
  {
   "cell_type": "code",
   "execution_count": 6,
   "id": "8174d7e1",
   "metadata": {},
   "outputs": [],
   "source": [
    "x=25"
   ]
  },
  {
   "cell_type": "code",
   "execution_count": 7,
   "id": "fb0a7266",
   "metadata": {},
   "outputs": [
    {
     "data": {
      "text/plain": [
       "100"
      ]
     },
     "execution_count": 7,
     "metadata": {},
     "output_type": "execute_result"
    }
   ],
   "source": [
    "x*4"
   ]
  },
  {
   "cell_type": "code",
   "execution_count": 8,
   "id": "0410dccc",
   "metadata": {},
   "outputs": [
    {
     "data": {
      "text/plain": [
       "100"
      ]
     },
     "execution_count": 8,
     "metadata": {},
     "output_type": "execute_result"
    }
   ],
   "source": [
    "(x*6)-(x*2)"
   ]
  },
  {
   "cell_type": "code",
   "execution_count": 9,
   "id": "1602b258",
   "metadata": {},
   "outputs": [],
   "source": [
    "x=50"
   ]
  },
  {
   "cell_type": "code",
   "execution_count": 10,
   "id": "6772c89c",
   "metadata": {},
   "outputs": [],
   "source": [
    "y=2"
   ]
  },
  {
   "cell_type": "code",
   "execution_count": 11,
   "id": "f7b995a4",
   "metadata": {},
   "outputs": [
    {
     "data": {
      "text/plain": [
       "100"
      ]
     },
     "execution_count": 11,
     "metadata": {},
     "output_type": "execute_result"
    }
   ],
   "source": [
    "x*y"
   ]
  },
  {
   "cell_type": "code",
   "execution_count": 12,
   "id": "c47e22bb",
   "metadata": {},
   "outputs": [],
   "source": [
    "x=200"
   ]
  },
  {
   "cell_type": "code",
   "execution_count": 13,
   "id": "65adae56",
   "metadata": {},
   "outputs": [
    {
     "data": {
      "text/plain": [
       "100.0"
      ]
     },
     "execution_count": 13,
     "metadata": {},
     "output_type": "execute_result"
    }
   ],
   "source": [
    "x/2"
   ]
  },
  {
   "cell_type": "code",
   "execution_count": 14,
   "id": "f7c661d8",
   "metadata": {},
   "outputs": [],
   "source": [
    "y=2"
   ]
  },
  {
   "cell_type": "code",
   "execution_count": 15,
   "id": "b996b5d8",
   "metadata": {},
   "outputs": [
    {
     "data": {
      "text/plain": [
       "100.0"
      ]
     },
     "execution_count": 15,
     "metadata": {},
     "output_type": "execute_result"
    }
   ],
   "source": [
    "x/y"
   ]
  },
  {
   "cell_type": "code",
   "execution_count": 16,
   "id": "ac43d610",
   "metadata": {},
   "outputs": [],
   "source": [
    "# 7.a"
   ]
  },
  {
   "cell_type": "code",
   "execution_count": 17,
   "id": "e5688256",
   "metadata": {},
   "outputs": [],
   "source": [
    "x=25"
   ]
  },
  {
   "cell_type": "code",
   "execution_count": 19,
   "id": "2628d073",
   "metadata": {},
   "outputs": [
    {
     "data": {
      "text/plain": [
       "100"
      ]
     },
     "execution_count": 19,
     "metadata": {},
     "output_type": "execute_result"
    }
   ],
   "source": [
    "x+x+x+x"
   ]
  },
  {
   "cell_type": "code",
   "execution_count": 20,
   "id": "bdc1d67c",
   "metadata": {},
   "outputs": [],
   "source": [
    "# 7.b"
   ]
  },
  {
   "cell_type": "code",
   "execution_count": 21,
   "id": "37019b78",
   "metadata": {},
   "outputs": [],
   "source": [
    "x=25"
   ]
  },
  {
   "cell_type": "code",
   "execution_count": 24,
   "id": "7b14ffa6",
   "metadata": {},
   "outputs": [],
   "source": [
    "y=75"
   ]
  },
  {
   "cell_type": "code",
   "execution_count": 25,
   "id": "8c00150b",
   "metadata": {},
   "outputs": [
    {
     "data": {
      "text/plain": [
       "100"
      ]
     },
     "execution_count": 25,
     "metadata": {},
     "output_type": "execute_result"
    }
   ],
   "source": [
    "x+y"
   ]
  },
  {
   "cell_type": "code",
   "execution_count": 26,
   "id": "84e3c8c3",
   "metadata": {},
   "outputs": [
    {
     "data": {
      "text/plain": [
       "100"
      ]
     },
     "execution_count": 26,
     "metadata": {},
     "output_type": "execute_result"
    }
   ],
   "source": [
    "(y+y)-(x+x)"
   ]
  },
  {
   "cell_type": "code",
   "execution_count": 27,
   "id": "80476514",
   "metadata": {},
   "outputs": [],
   "source": [
    "# 7.c"
   ]
  },
  {
   "cell_type": "code",
   "execution_count": 28,
   "id": "4c79ca65",
   "metadata": {},
   "outputs": [],
   "source": [
    "x=200"
   ]
  },
  {
   "cell_type": "code",
   "execution_count": 29,
   "id": "b853b091",
   "metadata": {},
   "outputs": [],
   "source": [
    "y=100"
   ]
  },
  {
   "cell_type": "code",
   "execution_count": 30,
   "id": "1ca14a80",
   "metadata": {},
   "outputs": [
    {
     "data": {
      "text/plain": [
       "100"
      ]
     },
     "execution_count": 30,
     "metadata": {},
     "output_type": "execute_result"
    }
   ],
   "source": [
    "x-y"
   ]
  },
  {
   "cell_type": "code",
   "execution_count": 32,
   "id": "c43865fe",
   "metadata": {},
   "outputs": [],
   "source": [
    "# 8"
   ]
  },
  {
   "cell_type": "code",
   "execution_count": 33,
   "id": "9a8aab30",
   "metadata": {},
   "outputs": [],
   "source": [
    "x=5.2315"
   ]
  },
  {
   "cell_type": "code",
   "execution_count": 34,
   "id": "1b73dbdf",
   "metadata": {},
   "outputs": [],
   "source": [
    "y=2.9782"
   ]
  },
  {
   "cell_type": "code",
   "execution_count": 35,
   "id": "61e4cba4",
   "metadata": {},
   "outputs": [
    {
     "data": {
      "text/plain": [
       "1.7565979450674902"
      ]
     },
     "execution_count": 35,
     "metadata": {},
     "output_type": "execute_result"
    }
   ],
   "source": [
    "x/y"
   ]
  },
  {
   "cell_type": "code",
   "execution_count": 43,
   "id": "773025aa",
   "metadata": {},
   "outputs": [],
   "source": [
    "# 9"
   ]
  },
  {
   "cell_type": "code",
   "execution_count": 44,
   "id": "fc992da0",
   "metadata": {},
   "outputs": [],
   "source": [
    "a='H'"
   ]
  },
  {
   "cell_type": "code",
   "execution_count": 47,
   "id": "66a46da9",
   "metadata": {},
   "outputs": [],
   "source": [
    "b='o'"
   ]
  },
  {
   "cell_type": "code",
   "execution_count": 48,
   "id": "3ede806a",
   "metadata": {},
   "outputs": [],
   "source": [
    "c='w'"
   ]
  },
  {
   "cell_type": "code",
   "execution_count": 49,
   "id": "e6a65a3e",
   "metadata": {},
   "outputs": [
    {
     "data": {
      "text/plain": [
       "'How'"
      ]
     },
     "execution_count": 49,
     "metadata": {},
     "output_type": "execute_result"
    }
   ],
   "source": [
    "a+b+c"
   ]
  },
  {
   "cell_type": "code",
   "execution_count": 50,
   "id": "4c9cb9be",
   "metadata": {},
   "outputs": [],
   "source": [
    "# 10"
   ]
  },
  {
   "cell_type": "code",
   "execution_count": 51,
   "id": "616511d6",
   "metadata": {},
   "outputs": [],
   "source": [
    "x=a+b+c"
   ]
  },
  {
   "cell_type": "code",
   "execution_count": 52,
   "id": "f70b8ae8",
   "metadata": {},
   "outputs": [],
   "source": [
    "y=' are'"
   ]
  },
  {
   "cell_type": "code",
   "execution_count": 53,
   "id": "76cdded7",
   "metadata": {},
   "outputs": [],
   "source": [
    "z=' you?'"
   ]
  },
  {
   "cell_type": "code",
   "execution_count": 54,
   "id": "37b88761",
   "metadata": {},
   "outputs": [
    {
     "data": {
      "text/plain": [
       "'How are you?'"
      ]
     },
     "execution_count": 54,
     "metadata": {},
     "output_type": "execute_result"
    }
   ],
   "source": [
    "x+y+z"
   ]
  },
  {
   "cell_type": "code",
   "execution_count": 62,
   "id": "b5b96301",
   "metadata": {},
   "outputs": [],
   "source": [
    "# 10b"
   ]
  },
  {
   "cell_type": "code",
   "execution_count": 56,
   "id": "478ab926",
   "metadata": {},
   "outputs": [],
   "source": [
    "a='I '"
   ]
  },
  {
   "cell_type": "code",
   "execution_count": 60,
   "id": "588a0844",
   "metadata": {},
   "outputs": [],
   "source": [
    "b='am '"
   ]
  },
  {
   "cell_type": "code",
   "execution_count": 58,
   "id": "d115775b",
   "metadata": {},
   "outputs": [],
   "source": [
    "c='fine'"
   ]
  },
  {
   "cell_type": "code",
   "execution_count": 61,
   "id": "5cd5de81",
   "metadata": {},
   "outputs": [
    {
     "data": {
      "text/plain": [
       "'I am fine'"
      ]
     },
     "execution_count": 61,
     "metadata": {},
     "output_type": "execute_result"
    }
   ],
   "source": [
    "a+b+c"
   ]
  },
  {
   "cell_type": "code",
   "execution_count": 63,
   "id": "a9f62932",
   "metadata": {},
   "outputs": [],
   "source": [
    "# Bonus"
   ]
  },
  {
   "cell_type": "code",
   "execution_count": 64,
   "id": "9379189e",
   "metadata": {},
   "outputs": [],
   "source": [
    "a='hello'"
   ]
  },
  {
   "cell_type": "code",
   "execution_count": 65,
   "id": "24fe34dc",
   "metadata": {},
   "outputs": [
    {
     "data": {
      "text/plain": [
       "'hellohellohellohellohellohellohellohellohellohellohellohellohellohellohellohellohellohellohellohellohellohellohellohellohellohellohellohellohellohellohellohellohellohellohellohellohellohellohellohellohellohellohellohellohellohellohellohellohellohellohellohellohellohellohellohellohellohellohellohellohellohellohellohellohellohellohellohellohellohellohellohellohellohellohellohellohellohellohellohellohellohellohellohellohellohellohellohellohellohellohellohellohellohellohellohellohellohellohellohello'"
      ]
     },
     "execution_count": 65,
     "metadata": {},
     "output_type": "execute_result"
    }
   ],
   "source": [
    "a*100"
   ]
  },
  {
   "cell_type": "code",
   "execution_count": 66,
   "id": "6d1321ce",
   "metadata": {},
   "outputs": [
    {
     "data": {
      "text/plain": [
       "'buybuybuybuybuybuybuybuybuybuybuybuybuybuybuybuybuybuybuybuybuybuybuybuybuybuybuybuybuybuybuybuybuybuybuybuybuybuybuybuybuybuybuybuybuybuybuybuybuybuybuybuybuybuybuybuybuybuybuybuybuybuybuybuybuybuybuybuybuybuybuybuybuybuybuybuybuybuybuybuybuybuybuybuybuybuybuybuybuybuybuybuybuybuybuybuybuybuybuybuy'"
      ]
     },
     "execution_count": 66,
     "metadata": {},
     "output_type": "execute_result"
    }
   ],
   "source": [
    "'buy'*100"
   ]
  },
  {
   "cell_type": "code",
   "execution_count": null,
   "id": "8dd1b184",
   "metadata": {},
   "outputs": [],
   "source": []
  }
 ],
 "metadata": {
  "kernelspec": {
   "display_name": "Python 3 (ipykernel)",
   "language": "python",
   "name": "python3"
  },
  "language_info": {
   "codemirror_mode": {
    "name": "ipython",
    "version": 3
   },
   "file_extension": ".py",
   "mimetype": "text/x-python",
   "name": "python",
   "nbconvert_exporter": "python",
   "pygments_lexer": "ipython3",
   "version": "3.9.13"
  }
 },
 "nbformat": 4,
 "nbformat_minor": 5
}
